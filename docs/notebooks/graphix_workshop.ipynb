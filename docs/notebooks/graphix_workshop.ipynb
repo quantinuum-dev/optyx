{
 "cells": [
  {
   "cell_type": "markdown",
   "id": "0d360e60",
   "metadata": {},
   "source": [
    "# Optyx: A ZX-based Python library for networked quantum architectures"
   ]
  },
  {
   "cell_type": "markdown",
   "id": "b1adf8d9",
   "metadata": {},
   "source": [
    "## Hong-Ou-Mandel effect"
   ]
  },
  {
   "cell_type": "markdown",
   "id": "6f3dab5d",
   "metadata": {},
   "source": [
    "### Experiment definition"
   ]
  },
  {
   "cell_type": "code",
   "execution_count": null,
   "id": "13dbbb3a",
   "metadata": {},
   "outputs": [],
   "source": [
    "from optyx.photonic import BBS\n",
    "\n",
    "# diagram generators:\n",
    "# beam-splitter\n",
    "beam_splitter = BBS(0)\n",
    "beam_splitter.draw()"
   ]
  },
  {
   "cell_type": "code",
   "execution_count": null,
   "id": "79ab4b08",
   "metadata": {},
   "outputs": [],
   "source": [
    "from optyx.photonic import Create\n",
    "\n",
    "# diagram composition with function syntax\n",
    "hong_ou_mandel = (\n",
    "    Create(1) @ Create(1) >>\n",
    "    beam_splitter\n",
    ")\n",
    "\n",
    "hong_ou_mandel.draw()"
   ]
  },
  {
   "cell_type": "markdown",
   "id": "a869643c",
   "metadata": {},
   "source": [
    " ![HOM](./hom.png \"Hong-Ou-Mandel Effect\")"
   ]
  },
  {
   "cell_type": "markdown",
   "id": "94bfc225",
   "metadata": {},
   "source": [
    "### Diagram evaluation"
   ]
  },
  {
   "cell_type": "code",
   "execution_count": null,
   "id": "f1478f68",
   "metadata": {},
   "outputs": [],
   "source": [
    "# an amplitude (raw result of tensor contraction)\n",
    "from optyx.classical import Select\n",
    "(\n",
    "    hong_ou_mandel >> Select(1, 1)\n",
    ").eval().tensor.array"
   ]
  },
  {
   "cell_type": "code",
   "execution_count": null,
   "id": "801f0884",
   "metadata": {},
   "outputs": [],
   "source": [
    "hong_ou_mandel.eval().prob_dist()"
   ]
  },
  {
   "cell_type": "markdown",
   "id": "b1f34bd2",
   "metadata": {},
   "source": [
    "## Qubit teleportation - function syntax and backends"
   ]
  },
  {
   "cell_type": "code",
   "execution_count": null,
   "id": "47e64a7d",
   "metadata": {},
   "outputs": [],
   "source": [
    "from optyx import qubit, bit\n",
    "from optyx.qubits import Scalar\n",
    "\n",
    "from optyx import Channel\n",
    "from optyx.qubits import Z, X, H, Measure, Scalar, qubit, bit\n",
    "from optyx.classical import BitControlledGate"
   ]
  },
  {
   "cell_type": "markdown",
   "id": "748d7e3d",
   "metadata": {},
   "source": [
    "### Define the protocol"
   ]
  },
  {
   "cell_type": "code",
   "execution_count": null,
   "id": "8fa3a149",
   "metadata": {},
   "outputs": [],
   "source": [
    "# function syntax\n",
    "# CNOT from ZX generators\n",
    "\n",
    "@Channel.from_callable(\n",
    "  dom=qubit @ qubit, cod=qubit @ qubit\n",
    ")\n",
    "def cnot(a, b):\n",
    "  c, d = Z(1, 2)(a)\n",
    "  Scalar(2 ** 0.5)()\n",
    "  return X(2, 1)(c, b), d"
   ]
  },
  {
   "cell_type": "markdown",
   "id": "668cadf7",
   "metadata": {},
   "source": [
    "<img src=\"teleport.svg\" alt=\"Teleportation Protocol\" width=\"800\" style=\"max-width:100%;\">\n"
   ]
  },
  {
   "cell_type": "code",
   "execution_count": null,
   "id": "8c0301af",
   "metadata": {},
   "outputs": [],
   "source": [
    "bell = Scalar(0.5 ** 0.5) @ Z(0, 2)\n",
    "\n",
    "@Channel.from_callable(\n",
    "  dom=qubit, cod=qubit\n",
    ")\n",
    "def teleportation(c):\n",
    "  a, b = bell()\n",
    "  aa, cc = cnot(a, c)\n",
    "  c_ = Measure(1)(H()(cc))\n",
    "  a_ = Measure(1)(aa)\n",
    "  bb = BitControlledGate(X(1, 1, 0.5))(a_, b)\n",
    "  return BitControlledGate(Z(1, 1, 0.5))(c_, bb)"
   ]
  },
  {
   "cell_type": "code",
   "execution_count": null,
   "id": "174c4713",
   "metadata": {},
   "outputs": [],
   "source": [
    "# function syntax avoids explicit swaps and identity wires\n",
    "\n",
    "teleportation_monoidal_syntax = (\n",
    "    qubit @ bell >>\n",
    "    cnot @ qubit >>\n",
    "    H() @ qubit ** 2 >>\n",
    "    Measure(1) @ Measure(1) @ qubit >>\n",
    "    bit @ BitControlledGate(X(1, 1, 0.5)) >>\n",
    "    BitControlledGate(Z(1, 1, 0.5))\n",
    ")"
   ]
  },
  {
   "cell_type": "markdown",
   "id": "7fcce92a",
   "metadata": {},
   "source": [
    "### Verify the protocol"
   ]
  },
  {
   "cell_type": "code",
   "execution_count": null,
   "id": "bb29783a",
   "metadata": {},
   "outputs": [],
   "source": [
    "import numpy as np\n",
    "from optyx.qubits import Id\n",
    "\n",
    "# both implementations are equivalent\n",
    "np.allclose(\n",
    "    teleportation.eval().tensor.array,\n",
    "    teleportation_monoidal_syntax.eval().tensor.array,\n",
    "    Id(1).double().to_tensor().eval().array\n",
    ")"
   ]
  },
  {
   "cell_type": "code",
   "execution_count": null,
   "id": "25af2db6",
   "metadata": {},
   "outputs": [],
   "source": [
    "# backends (Perceval, Discopy, Quimb)\n",
    "\n",
    "from optyx.core.backends import (\n",
    "    DiscopyBackend,\n",
    "    QuimbBackend\n",
    ")\n",
    "\n",
    "np.allclose(\n",
    "    teleportation.eval(DiscopyBackend()).tensor.array,\n",
    "    teleportation.eval(QuimbBackend()).tensor.array\n",
    ")"
   ]
  },
  {
   "cell_type": "markdown",
   "id": "36241fe2",
   "metadata": {},
   "source": [
    "## Fusion teleportation"
   ]
  },
  {
   "cell_type": "markdown",
   "id": "7043700a",
   "metadata": {},
   "source": [
    "Ursin, R., Jennewein, T., Aspelmeyer, M. et al. Quantum teleportation across the Danube. Nature 430, 849 (2004). https://doi.org/10.1038/430849a\n",
    "\n",
    "<img src=\"./teleportation_danube.png\" alt=\"Fusion teleportation across the Danube\" width=\"1150px\">"
   ]
  },
  {
   "cell_type": "markdown",
   "id": "5721aeab",
   "metadata": {},
   "source": [
    "Graphically, the fusion measurement we would like to use, takes the following form:\n",
    "\n",
    "<img src=\"./fusion_ii.png\" alt=\"Fusion measurement\" width=\"1200px\">\n"
   ]
  },
  {
   "cell_type": "markdown",
   "id": "1ab1655b",
   "metadata": {},
   "source": [
    "where $\\underline{a}, \\underline{b}, \\underline{c}, \\underline{d}$ are the measurement outcomes as the measured photon numbers. "
   ]
  },
  {
   "cell_type": "markdown",
   "id": "ea1f931a",
   "metadata": {},
   "source": [
    "$\\underline{s} = \\underline{a} \\oplus \\underline{b}$\n",
    "\n",
    "$\\underline{k} = \\underline{s} (\\underline{b} + \\underline{d}) + \\neg \\underline s (1 - \\frac{\\underline{a} + \\underline{b}}{2})$"
   ]
  },
  {
   "cell_type": "markdown",
   "id": "515133cf",
   "metadata": {},
   "source": [
    "### Define the protocol"
   ]
  },
  {
   "cell_type": "code",
   "execution_count": null,
   "id": "c557c4b8",
   "metadata": {},
   "outputs": [],
   "source": [
    "from optyx.photonic import DualRail\n",
    "\n",
    "dual_rail_encoded_bell = (\n",
    "    bell >>\n",
    "    DualRail(1) @ DualRail(1)\n",
    ")"
   ]
  },
  {
   "cell_type": "code",
   "execution_count": null,
   "id": "a1764edb",
   "metadata": {},
   "outputs": [],
   "source": [
    "from optyx.classical import PostselectBit, BitControlledGate\n",
    "from optyx.photonic import Phase\n",
    "from optyx.photonic import HadamardBS, qmode\n",
    "\n",
    "# postselect on fusion success\n",
    "fusion_failure_processing = PostselectBit(1)\n",
    "\n",
    "# apply the box if the control bit is 1, otherwise apply an identity channel\n",
    "correction = BitControlledGate(\n",
    "    HadamardBS() >>\n",
    "    (Phase(0.5) @ qmode) >>\n",
    "    HadamardBS()\n",
    ")"
   ]
  },
  {
   "cell_type": "code",
   "execution_count": null,
   "id": "7bb5e46f",
   "metadata": {},
   "outputs": [],
   "source": [
    "from optyx.photonic import FusionTypeII\n",
    "\n",
    "@Channel.from_callable(\n",
    "    dom=qubit, cod=qmode @ qmode\n",
    ")\n",
    "def fusion_teleportation(a):\n",
    "    dual_rail_encoded_input = DualRail(1)(a)\n",
    "    b, c, d, e = dual_rail_encoded_bell()\n",
    "    s, k = FusionTypeII()(*dual_rail_encoded_input, b, c)\n",
    "    fusion_failure_processing(s)\n",
    "    dr_output_1, dr_output_2 = correction(k, d, e)\n",
    "    return dr_output_1, dr_output_2"
   ]
  },
  {
   "cell_type": "code",
   "execution_count": null,
   "id": "4b5ee771",
   "metadata": {},
   "outputs": [],
   "source": [
    "from optyx.photonic import FusionTypeII\n",
    "\n",
    "fusion_teleportation_monoidal_syntax = (\n",
    "    DualRail(1) @ dual_rail_encoded_bell >>\n",
    "    FusionTypeII() @ qmode**2 >>\n",
    "    fusion_failure_processing @ correction\n",
    ")\n",
    "\n",
    "fusion_teleportation_monoidal_syntax.foliation().draw(figsize=(8, 8))\n"
   ]
  },
  {
   "cell_type": "markdown",
   "id": "5017fe5a",
   "metadata": {},
   "source": [
    "### Verify the protocol"
   ]
  },
  {
   "cell_type": "code",
   "execution_count": null,
   "id": "c19354d7",
   "metadata": {},
   "outputs": [],
   "source": [
    "import numpy as np\n",
    "from optyx.photonic import Id\n",
    "\n",
    "array_teleportation = fusion_teleportation_monoidal_syntax.eval().tensor.array\n",
    "array_dr = (DualRail(1) @ Scalar(0.5**0.5)).double().to_tensor().eval().array\n",
    "\n",
    "np.allclose(array_teleportation[:, :, :2, :2, :2, :2], array_dr)\n"
   ]
  },
  {
   "cell_type": "markdown",
   "id": "6e6b4039",
   "metadata": {},
   "source": [
    "### Approximate contraction with Quimb and Cotengra"
   ]
  },
  {
   "cell_type": "code",
   "execution_count": null,
   "id": "51acb733",
   "metadata": {},
   "outputs": [],
   "source": [
    "def _flat(x):\n",
    "    return np.asarray(x, dtype=complex).ravel()\n",
    "\n",
    "def cosine_similarity(SU, SV):\n",
    "    a, b = _flat(SU), _flat(SV)\n",
    "    num = abs(np.vdot(a, b))\n",
    "    den = np.linalg.norm(a) * np.linalg.norm(b)\n",
    "    if den == 0:\n",
    "        return 0.0\n",
    "    return float(num / den)"
   ]
  },
  {
   "cell_type": "code",
   "execution_count": null,
   "id": "fb497580",
   "metadata": {},
   "outputs": [],
   "source": [
    "from cotengra import HyperCompressedOptimizer\n",
    "\n",
    "# cosine similarity between the result of exact contaction and approximate contraction for different chis\n",
    "errors = []\n",
    "for chi in range(1, 6):\n",
    "    optimiser = HyperCompressedOptimizer(\n",
    "        chi=chi\n",
    "    )\n",
    "    error_for_chi = []\n",
    "    for _ in range(10):\n",
    "         error_for_chi.append(\n",
    "             cosine_similarity(\n",
    "                 fusion_teleportation.eval(QuimbBackend(optimiser)).tensor.array,\n",
    "                 array_teleportation\n",
    "             )\n",
    "         )\n",
    "    errors.append(np.median(error_for_chi))\n",
    "\n",
    "import matplotlib.pyplot as plt\n",
    "plt.plot(range(1, 6), errors, marker='o')\n",
    "plt.grid()\n",
    "plt.xlabel('Chi')\n",
    "plt.ylabel('Average cosine similarity')\n",
    "plt.title('Fusion-based Teleportation similarity vs Contraction Chi')\n"
   ]
  },
  {
   "cell_type": "markdown",
   "id": "351608f0",
   "metadata": {},
   "source": [
    "### Photon loss and channel fidelity"
   ]
  },
  {
   "cell_type": "code",
   "execution_count": null,
   "id": "ac439493",
   "metadata": {},
   "outputs": [],
   "source": [
    "from optyx.photonic import FusionTypeII, PhotonLoss\n",
    "\n",
    "# photo loss is one of the main error sources in photonic quantum computing\n",
    "def fusion_teleportation_with_photon_loss(p):\n",
    "    @Channel.from_callable(\n",
    "        dom=qubit, cod=qmode**2\n",
    "    )\n",
    "    def fusion_teleportation(a):\n",
    "        dr_input_1, dr_input_2 = DualRail(1)(a)\n",
    "        b, c, d, e = dual_rail_encoded_bell()\n",
    "        # apply photon loss to all modes here:\n",
    "        #-----------------------------------\n",
    "        dr_input_1_loss, dr_input_2_loss, b_loss, c_loss, d_loss, e_loss = (\n",
    "            PhotonLoss(p)(dr_input_1), PhotonLoss(p)(dr_input_2), PhotonLoss(p)(b), PhotonLoss(p)(c), PhotonLoss(p)(d), PhotonLoss(p)(e)\n",
    "        )\n",
    "        #-----------------------------------\n",
    "        s, k = FusionTypeII()(dr_input_1_loss, dr_input_2_loss, b_loss, c_loss)\n",
    "        fusion_failure_processing(s)\n",
    "        output_rail_1, output_rail = correction(k, d_loss, e_loss)\n",
    "        return output_rail_1, output_rail\n",
    "    return fusion_teleportation"
   ]
  },
  {
   "cell_type": "code",
   "execution_count": null,
   "id": "ccefb368",
   "metadata": {},
   "outputs": [],
   "source": [
    "from optyx.core.channel import Spider, Diagram\n",
    "\n",
    "def get_perm(n):\n",
    "    return sorted(sorted(list(range(n))), key=lambda i: i % 2)\n",
    "\n",
    "def channel_fidelity(diagram_1, diagram_2):\n",
    "    bell_1 = Channel.tensor(*[Spider(0, 2, ty) for ty in diagram_1.dom])\n",
    "    permutation_1 = Diagram.permutation(get_perm(len(bell_1.cod)), bell_1.cod)\n",
    "\n",
    "    bell_2 = Channel.tensor(*[Spider(0, 2, ty) for ty in diagram_2.dom])\n",
    "    permutation_2 = Diagram.permutation(get_perm(len(bell_2.cod)), bell_2.cod)\n",
    "\n",
    "    choi_1 = bell_1 >> permutation_1 >> (diagram_1 @ diagram_1.dom)\n",
    "    choi_2 = bell_2 >> permutation_2 >> (diagram_2 @ diagram_2.dom)\n",
    "\n",
    "    return (choi_1 >> choi_2.dagger()).eval().tensor.array\n"
   ]
  },
  {
   "cell_type": "code",
   "execution_count": null,
   "id": "7e1a2957",
   "metadata": {},
   "outputs": [],
   "source": [
    "import numpy as np\n",
    "import matplotlib.pyplot as plt\n",
    "\n",
    "ps = np.linspace(0.0, 1.0, 20)\n",
    "\n",
    "# compute fidelity for different photon loss probabilities\n",
    "F_avg_vals = []\n",
    "succ_probs = []\n",
    "for p in ps:\n",
    "    S_impl = fusion_teleportation_with_photon_loss(p)\n",
    "    S_tgt  = fusion_teleportation_monoidal_syntax\n",
    "    s = channel_fidelity(S_impl, S_tgt)\n",
    "\n",
    "    succ_probs.append(s)\n",
    "\n",
    "plt.figure()\n",
    "plt.plot(ps, succ_probs, marker='o')\n",
    "plt.grid(True)\n",
    "plt.xlabel('Photon Survival Probability (p)')\n",
    "plt.ylabel('Fidelity')\n",
    "plt.title('Fusion-based Teleportation: Photon Survival Probability vs Fidelity')\n"
   ]
  },
  {
   "cell_type": "markdown",
   "id": "07c143a0",
   "metadata": {},
   "source": [
    "## Distributed entanglement generation"
   ]
  },
  {
   "cell_type": "markdown",
   "id": "9fa0ec11",
   "metadata": {},
   "source": [
    "![Distributed entanglement](./distributed_entanglement.png \"An example of distributed entanglement generation\")\n",
    "\n",
    "Main, D., Drmota, P., Nadlinger, D.P. et al. Distributed quantum computing across an optical network link. Nature 638, 383–388 (2025). https://doi.org/10.1038/s41586-024-08404-x~\n",
    "\n"
   ]
  },
  {
   "cell_type": "markdown",
   "id": "e20c30a8",
   "metadata": {},
   "source": [
    "### Fusion and photon distinguishability"
   ]
  },
  {
   "cell_type": "markdown",
   "id": "18ab5a86",
   "metadata": {},
   "source": [
    "#### Define the protocol"
   ]
  },
  {
   "cell_type": "code",
   "execution_count": null,
   "id": "bdb9611d",
   "metadata": {},
   "outputs": [],
   "source": [
    "from optyx.qubits import Z, Scalar, Id, Measure\n",
    "from optyx.photonic import DualRail\n",
    "from optyx.classical import PostselectBit\n",
    "from discopy.drawing import Equation\n",
    "\n",
    "bell_state = Z(0, 2) @ Scalar(0.5 ** 0.5)\n",
    "\n",
    "# generators introducing new qubits accepting internal states\n",
    "internal_state_1 = [1, 0]\n",
    "internal_state_2 = [0, 1]\n",
    "dual_rail_encoding = lambda state: DualRail(1, internal_states=[state])\n",
    "encoding_layer =  dual_rail_encoding(internal_state_1) @ dual_rail_encoding(internal_state_2)\n",
    "\n",
    "# postselect on fusion success and no errors\n",
    "post_select = PostselectBit(1) @ PostselectBit(0)\n",
    "\n",
    "protocol = (\n",
    "    bell_state @ bell_state >>\n",
    "    Id(1) @ (encoding_layer >> FusionTypeII() >> post_select) @ Id(1)\n",
    ")\n",
    "measure = Measure(2)\n",
    "\n",
    "Equation(protocol >> measure, bell_state >> measure).draw(figsize=(8, 8))"
   ]
  },
  {
   "cell_type": "markdown",
   "id": "eb9f34b3",
   "metadata": {},
   "source": [
    "#### Define a set of internal states with varying degrees of distinguishability"
   ]
  },
  {
   "cell_type": "code",
   "execution_count": null,
   "id": "9e5c4078",
   "metadata": {},
   "outputs": [],
   "source": [
    "import math\n",
    "\n",
    "# internal states - 2 dimensional - move further and further apart\n",
    "def rotated_unit_vectors(n: int = 10):\n",
    "    for i in range(n):\n",
    "        theta = i * (math.pi / 2) / (n - 1)\n",
    "        yield (math.cos(theta), math.sin(theta))\n",
    "\n",
    "unit_vectors = list(rotated_unit_vectors(15))"
   ]
  },
  {
   "cell_type": "markdown",
   "id": "945ace07",
   "metadata": {},
   "source": [
    "#### Run the experiments"
   ]
  },
  {
   "cell_type": "code",
   "execution_count": null,
   "id": "30b96ad0",
   "metadata": {},
   "outputs": [],
   "source": [
    "from optyx.qubits import Discard\n",
    "\n",
    "inner_product_states = []\n",
    "inner_product_bell_states = []\n",
    "\n",
    "result_bell = bell_state.eval().tensor.array.flatten()\n",
    "result_bell = result_bell / np.linalg.norm(result_bell)\n",
    "\n",
    "for vector in unit_vectors:\n",
    "    encoding_layer =  dual_rail_encoding(internal_state_1) @ dual_rail_encoding(vector)\n",
    "    experiment = bell_state @ bell_state >> Id(1) @ (encoding_layer >> FusionTypeII()\n",
    "                                                                                >> post_select) @ Id(1)\n",
    "\n",
    "    f = (experiment >> bell_state.dagger()).inflate(2).eval().tensor.array\n",
    "    normalisation = (experiment >> Discard(2)).inflate(2).eval().tensor.array\n",
    "\n",
    "    inner_product_states.append(np.inner(vector, internal_state_1))\n",
    "    inner_product_bell_states.append(f/normalisation)"
   ]
  },
  {
   "cell_type": "code",
   "execution_count": null,
   "id": "1c50f388",
   "metadata": {},
   "outputs": [],
   "source": [
    "import matplotlib.pyplot as plt\n",
    "\n",
    "plt.figure(figsize=(6, 4))\n",
    "plt.plot(inner_product_states, inner_product_bell_states, marker='o')\n",
    "plt.xlabel('<Internal state 1 | Internal state 2>')\n",
    "plt.ylabel('<Result | Bell State> (fidelity)')\n",
    "plt.title('Fidelity of the resulting state with the perfect Bell state')\n",
    "plt.grid(True)\n",
    "plt.show()"
   ]
  },
  {
   "cell_type": "markdown",
   "id": "7aa6a1d2",
   "metadata": {},
   "source": [
    "## Interfacing with external libraries"
   ]
  },
  {
   "cell_type": "markdown",
   "id": "e4b64d36",
   "metadata": {},
   "source": [
    "### Graphix\n",
    "\n",
    "Open graphs only for now (graph + measurements; desire to implement deterministically - no corrections)"
   ]
  },
  {
   "cell_type": "code",
   "execution_count": null,
   "id": "79f358ae",
   "metadata": {},
   "outputs": [],
   "source": [
    "import graphix\n",
    "\n",
    "circuit = graphix.Circuit(2)\n",
    "circuit.cnot(0, 1)\n",
    "\n",
    "pattern = circuit.transpile().pattern\n",
    "\n",
    "pattern.draw_graph()"
   ]
  },
  {
   "cell_type": "code",
   "execution_count": null,
   "id": "bff50dee",
   "metadata": {},
   "outputs": [],
   "source": [
    "simulator = graphix.simulator.PatternSimulator(pattern, backend=\"statevector\")\n",
    "graphix_result = simulator.run().psi.conj()"
   ]
  },
  {
   "cell_type": "code",
   "execution_count": null,
   "id": "bf2d9106",
   "metadata": {},
   "outputs": [],
   "source": [
    "from optyx import qubits\n",
    "\n",
    "optyx_zx = qubits.Circuit(pattern)\n",
    "\n",
    "optyx_res = (\n",
    "    qubits.Ket(\"+\")**2 >> optyx_zx\n",
    ").eval().amplitudes()"
   ]
  },
  {
   "cell_type": "code",
   "execution_count": null,
   "id": "908e477d",
   "metadata": {},
   "outputs": [],
   "source": [
    "for keys in optyx_res.keys():\n",
    "    assert np.isclose(optyx_res[keys], graphix_result[keys], atol=1e-6)"
   ]
  },
  {
   "cell_type": "markdown",
   "id": "598ab8dc",
   "metadata": {},
   "source": [
    "### Perceval circuits and processors"
   ]
  },
  {
   "cell_type": "markdown",
   "id": "7d106d80",
   "metadata": {},
   "source": [
    "#### Define the protocol in Perceval"
   ]
  },
  {
   "cell_type": "code",
   "execution_count": null,
   "id": "988c9618",
   "metadata": {},
   "outputs": [],
   "source": [
    "import perceval as pcvl\n",
    "\n",
    "p = pcvl.Processor(\"SLOS\", 6)\n",
    "p.add(0, pcvl.catalog[\"postprocessed cnot\"].build_processor())\n",
    "\n",
    "p.add(0, pcvl.BS.H())\n",
    "p.add(0, pcvl.Detector.pnr())\n",
    "p.add(1, pcvl.Detector.pnr())\n",
    "p.add(2, pcvl.Detector.pnr())\n",
    "p.add(3, pcvl.Detector.pnr())\n",
    "\n",
    "ff_X = pcvl.FFCircuitProvider(\n",
    "  2, 0, pcvl.Circuit(2)\n",
    ")\n",
    "ff_X.add_configuration(\n",
    "  [0, 1], pcvl.PERM([1, 0])\n",
    ")\n",
    "p.add(2, ff_X)\n",
    "\n",
    "phi = pcvl.P(\"phi\")\n",
    "ff_Z = pcvl.FFConfigurator(\n",
    "  2, 3,\n",
    "  pcvl.PS(phi),\n",
    "  {\"phi\": 0}\n",
    ").add_configuration(\n",
    "  [0, 1],\n",
    "  {\"phi\": np.pi}\n",
    ")\n",
    "p.add(0, ff_Z)\n",
    "\n",
    "pcvl.pdisplay(p, recursive=True)"
   ]
  },
  {
   "cell_type": "code",
   "execution_count": null,
   "id": "96d5bf6b",
   "metadata": {},
   "outputs": [],
   "source": [
    "from optyx.qubits import Ket\n",
    "\n",
    "state = Ket(\"+\") >> Z(1, 1, 0.3)\n",
    "state_array = state.eval().tensor.array\n",
    "state_array = state_array / np.linalg.norm(state_array)"
   ]
  },
  {
   "cell_type": "markdown",
   "id": "f64e6adb",
   "metadata": {},
   "source": [
    "#### Evaluate the protocol in Perceval"
   ]
  },
  {
   "cell_type": "code",
   "execution_count": null,
   "id": "bce649df",
   "metadata": {},
   "outputs": [],
   "source": [
    "to_transmit = (complex(state_array[0])*pcvl.BasicState([1, 0]) +\n",
    "               complex(state_array[1])*pcvl.BasicState([0, 1]))\n",
    "\n",
    "sg = pcvl.StateGenerator(pcvl.Encoding.DUAL_RAIL)\n",
    "bell_state = sg.bell_state(\"phi+\")\n",
    "\n",
    "input_state = to_transmit * bell_state\n",
    "p.min_detected_photons_filter(2)\n",
    "\n",
    "input_state *= pcvl.BasicState([0, 0])\n",
    "\n",
    "p.with_input(input_state)"
   ]
  },
  {
   "cell_type": "code",
   "execution_count": null,
   "id": "f0c1fbf3",
   "metadata": {},
   "outputs": [],
   "source": [
    "result_perceval = p.probs()"
   ]
  },
  {
   "cell_type": "markdown",
   "id": "ab098b6e",
   "metadata": {},
   "source": [
    "#### Convert to Optyx and simulate"
   ]
  },
  {
   "cell_type": "code",
   "execution_count": null,
   "id": "463bcb6f",
   "metadata": {},
   "outputs": [],
   "source": [
    "from optyx import Channel\n",
    "\n",
    "optyx_diagram = Channel.from_perceval(p)"
   ]
  },
  {
   "cell_type": "code",
   "execution_count": null,
   "id": "3f3fca2d",
   "metadata": {},
   "outputs": [],
   "source": [
    "from optyx.qubits import Scalar, Ket\n",
    "from optyx.photonic import DualRail\n",
    "\n",
    "bell_state = Z(0, 2) @ Scalar(0.5**0.5)\n",
    "transmit = Ket(\"+\") >> Z(1, 1, 0.3)\n",
    "\n",
    "input_state = transmit @ bell_state\n",
    "\n",
    "protocol = (\n",
    "    input_state >>\n",
    "    DualRail(3) >>\n",
    "    Channel.from_perceval(p)\n",
    ")"
   ]
  },
  {
   "cell_type": "code",
   "execution_count": null,
   "id": "54633b7a",
   "metadata": {},
   "outputs": [],
   "source": [
    "result_optyx = protocol.eval().prob_dist()"
   ]
  },
  {
   "cell_type": "code",
   "execution_count": null,
   "id": "e019251e",
   "metadata": {},
   "outputs": [],
   "source": [
    "def check_dict_agreement(d1, d2, rtol=1e-5, atol=1e-8):\n",
    "    for key in d1.keys() - d2.keys():\n",
    "        assert np.isclose(d1[key], 0, rtol=rtol, atol=atol)\n",
    "    for key in d2.keys() - d1.keys():\n",
    "        assert np.isclose(d2[key], 0, rtol=rtol, atol=atol)\n",
    "    for key in d1.keys() & d2.keys():\n",
    "        assert np.isclose(d1[key], d2[key], rtol=rtol, atol=atol)"
   ]
  },
  {
   "cell_type": "code",
   "execution_count": null,
   "id": "ca6102c5",
   "metadata": {},
   "outputs": [],
   "source": [
    "check_dict_agreement(\n",
    "    {tuple(k): v for k, v in dict(result_perceval[\"results\"]).items()},\n",
    "    result_optyx\n",
    ")"
   ]
  },
  {
   "cell_type": "code",
   "execution_count": null,
   "id": "a7c85548",
   "metadata": {},
   "outputs": [],
   "source": []
  }
 ],
 "metadata": {
  "kernelspec": {
   "display_name": ".venv",
   "language": "python",
   "name": "python3"
  },
  "language_info": {
   "codemirror_mode": {
    "name": "ipython",
    "version": 3
   },
   "file_extension": ".py",
   "mimetype": "text/x-python",
   "name": "python",
   "nbconvert_exporter": "python",
   "pygments_lexer": "ipython3",
   "version": "3.12.3"
  }
 },
 "nbformat": 4,
 "nbformat_minor": 5
}
