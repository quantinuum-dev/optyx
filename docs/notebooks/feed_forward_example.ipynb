{
 "cells": [
  {
   "cell_type": "markdown",
   "metadata": {},
   "source": [
    "## Teleportation using Fusion measurements and feed-forward\n",
    "\n",
    "In this notebook, we are going to implement a teleportation protocol using a fusion measurement implementing a Bell-basis measurement in the dual rail encoding.\n",
    "\n",
    "This will showcase how to use the classical control and controlled gates to implement a feed-forward protocol."
   ]
  },
  {
   "cell_type": "markdown",
   "metadata": {},
   "source": [
    "### Building blocks"
   ]
  },
  {
   "cell_type": "markdown",
   "metadata": {},
   "source": [
    "We would like to implement quantum teleportation. In ZX-calculus, we have:\n",
    "\n",
    "![Snake](./snake.png \"Snake equation\")\n",
    "\n",
    "In quantum optics, we can achieve that by using an entangling measurement called a fusion measurement. Fusion measurements are not deterministic, which means that sometimes they fail to introduce entanglement and they can additionally introduce Pauli errors. In practice this means, that we would like to \"throw out\" the case when a fusion fails and we would like to correct any Pauli errors.\n",
    "\n",
    "Therefore, we need:\n",
    "- a fusion measurement: to perform a Bell-basis measurement\n",
    "- dual-rail encoding of qubits\n",
    "- a classical protocol to process the measurement results\n",
    "- a correction of a Pauli error based on the classical protocol\n",
    "- a entangled Bell pair\n"
   ]
  },
  {
   "cell_type": "markdown",
   "metadata": {},
   "source": [
    "### Fusion measurement"
   ]
  },
  {
   "cell_type": "markdown",
   "metadata": {},
   "source": [
    "Graphically, the fusion measurement we would like to use, takes the following form:\n",
    "\n",
    "![Fusion II](./fusion_ii.png \"Fusion measurement implementing a Bell measurement in dual rail encoding\")\n",
    "\n"
   ]
  },
  {
   "cell_type": "markdown",
   "metadata": {},
   "source": [
    "where $\\underline{a}, \\underline{b}, \\underline{c}, \\underline{d}$ are the measurement outcomes as the measured photon numbers. As we are dealing with dual-rail encoding, we will restrict ourselves to the outcome results where the total measured number of photons is 4. We have that $\\underline{s} = \\underline{a} \\oplus \\underline{b}$ is the Boolean value of success (whether an entangling operation succeeded) and $\\underline{k} = \\underline{s} (\\underline{b} + \\underline{d}) + \\neg \\underline s (1 - \\frac{\\underline{a} + \\underline{b}}{2})$ is the Pauli error.\n",
    "This means that the error is $\\underline{b} + \\underline{d}$ in case of success and $1 - \\frac{\\underline{a} + \\underline{b}}{2}$ in case of failure.\n",
    "\n",
    "We interpret this diagram as a CP-map which means that the sums represent classical mixing and not quantum superposition. We obtain different protocols conditioned on the value of $\\underline{s}$ and $\\underline{k}$.\n",
    "\n",
    "In our analysis we will ignore the case when the fusion fails."
   ]
  },
  {
   "cell_type": "code",
   "execution_count": 1,
   "metadata": {},
   "outputs": [],
   "source": [
    "from optyx.channel import Channel\n",
    "from optyx.lo import BS_hadamard\n",
    "\n",
    "from optyx.optyx import (\n",
    "    DualRail,\n",
    "    Bit,\n",
    "    Mode,\n",
    "    Swap\n",
    ")\n",
    "\n",
    "kraus_map_fusion = (\n",
    "    Mode(1) @ Swap(Mode(1), Mode(1)) @ Mode(1) >>\n",
    "    Mode(1) @ BS_hadamard @ Mode(1) >>\n",
    "    Swap(Mode(1), Mode(1)) @ Mode(1) @ Mode(1) >>\n",
    "    Mode(1) @ Swap(Mode(1), Mode(1)) @ Mode(1) >>\n",
    "    Mode(1) @ Mode(1) @ BS_hadamard\n",
    ")\n",
    "\n",
    "fusion = Channel(\n",
    "    \"Fusion\",\n",
    "    kraus_map_fusion\n",
    ")"
   ]
  },
  {
   "cell_type": "markdown",
   "metadata": {},
   "source": [
    "### Classical processing of fusion measurement results"
   ]
  },
  {
   "cell_type": "code",
   "execution_count": 2,
   "metadata": {},
   "outputs": [],
   "source": [
    "from optyx.feed_forward.classical_control import (\n",
    "    ClassicalFunctionBox,\n",
    "    ControlChannel\n",
    ")\n",
    "\n",
    "def fusion_function(x):\n",
    "    \"\"\"\n",
    "    A classical function that returns two bits based on an input x,\n",
    "    based on the classical logical for the Fusion type II circuit.\n",
    "    \"\"\"\n",
    "    a = x[0]\n",
    "    b = x[1]\n",
    "    c = x[2]\n",
    "    d = x[3]\n",
    "    s = (a % 2) ^ (b % 2)\n",
    "    k = int(s*(b + d) + (1-s)*(1 - (a + b)/2))%2\n",
    "    return [not s, k]\n",
    "\n",
    "classical_function = ControlChannel(\n",
    "    ClassicalFunctionBox(\n",
    "        fusion_function,\n",
    "        Mode(4),\n",
    "        Bit(2)\n",
    "    )\n",
    ")"
   ]
  },
  {
   "cell_type": "markdown",
   "metadata": {},
   "source": [
    "### Corrections"
   ]
  },
  {
   "cell_type": "markdown",
   "metadata": {},
   "source": [
    "We would like to ignore the failure case (which is a simplification). We will simply zero out this case:"
   ]
  },
  {
   "cell_type": "code",
   "execution_count": 3,
   "metadata": {},
   "outputs": [],
   "source": [
    "from optyx.feed_forward.controlled_gates import BitControlledBox\n",
    "from optyx.zw import ZBox\n",
    "\n",
    "from optyx.channel import (\n",
    "    bit,\n",
    "    qmode\n",
    ")\n",
    "\n",
    "fusion_failure_processing = Channel(\n",
    "    \"Fusion Failure Processing\",\n",
    "    BitControlledBox(\n",
    "        ZBox(1, 1, lambda i: 0) @ Mode(1)\n",
    "    ),\n",
    "    dom = bit @ qmode**2\n",
    ")"
   ]
  },
  {
   "cell_type": "markdown",
   "metadata": {},
   "source": [
    "To correct the Pauli error on the success case, we need to introduce a Phase shift in dual rail encoding:\n",
    "\n",
    "![Phase](./phase_correction.png \"Phase correction\")\n",
    "\n",
    "The application of this gate is condition on the results of the classical processing of the measurement results. In particular, we want to apply the gate if $\\underline{k}$ is 1."
   ]
  },
  {
   "cell_type": "code",
   "execution_count": 11,
   "metadata": {},
   "outputs": [],
   "source": [
    "from optyx.lo import Phase\n",
    "\n",
    "# apply the box if the control bit is 1, otherwise apply an identity channel\n",
    "correction = Channel(\n",
    "    \"Phase Correction\",\n",
    "    BitControlledBox(\n",
    "        Phase(0.5) @ Mode(1)\n",
    "    ),\n",
    "    dom = bit @ qmode**2\n",
    ")"
   ]
  },
  {
   "cell_type": "markdown",
   "metadata": {},
   "source": [
    "### Putting it all together\n",
    "\n",
    "We simplify the overall protocol by assuming we have an access to a dual-rail encoded Bell pair available to both parties partaking in the protocol:"
   ]
  },
  {
   "cell_type": "code",
   "execution_count": 5,
   "metadata": {},
   "outputs": [],
   "source": [
    "from optyx.zx import Z\n",
    "\n",
    "prep = (\n",
    "    DualRail() @ Z(0, 2) >>\n",
    "    Mode(2) @ DualRail() @ DualRail()\n",
    ")\n",
    "\n",
    "channel_prep = Channel(\n",
    "    \"Input and Bell pair preparation\",\n",
    "    prep\n",
    ")"
   ]
  },
  {
   "cell_type": "code",
   "execution_count": 6,
   "metadata": {},
   "outputs": [],
   "source": [
    "from optyx.channel import Measure\n",
    "\n",
    "teleportation = (\n",
    "    channel_prep >>\n",
    "    fusion @ qmode**2 >>\n",
    "    Measure(qmode**4) @ qmode**2 >>\n",
    "    classical_function @ qmode**2 >>\n",
    "    bit @ correction >>\n",
    "    fusion_failure_processing >>\n",
    "    Channel(\"DR\", DualRail().dagger())\n",
    ")"
   ]
  },
  {
   "cell_type": "code",
   "execution_count": 7,
   "metadata": {},
   "outputs": [
    {
     "data": {
      "image/png": "[encoded data removed]",
      "text/plain": [
       "<Figure size 600x700 with 1 Axes>"
      ]
     },
     "metadata": {},
     "output_type": "display_data"
    }
   ],
   "source": [
    "teleportation.foliation().draw()"
   ]
  },
  {
   "cell_type": "code",
   "execution_count": 8,
   "metadata": {},
   "outputs": [],
   "source": [
    "array_teleportation = teleportation.double().to_zw().to_tensor().eval().array"
   ]
  },
  {
   "cell_type": "markdown",
   "metadata": {},
   "source": [
    "The protocol should implement an identity map:"
   ]
  },
  {
   "cell_type": "code",
   "execution_count": 9,
   "metadata": {},
   "outputs": [],
   "source": [
    "from optyx.optyx import Id\n",
    "\n",
    "array_id = Channel(\"Identity\", Id(Bit(1))).double().to_zw().to_tensor().eval().array"
   ]
  },
  {
   "cell_type": "code",
   "execution_count": 10,
   "metadata": {},
   "outputs": [
    {
     "data": {
      "text/plain": [
       "True"
      ]
     },
     "execution_count": 10,
     "metadata": {},
     "output_type": "execute_result"
    }
   ],
   "source": [
    "import numpy as np\n",
    "\n",
    "np.allclose(array_teleportation, array_id)"
   ]
  }
 ],
 "metadata": {
  "kernelspec": {
   "display_name": "Python 3",
   "language": "python",
   "name": "python3"
  },
  "language_info": {
   "codemirror_mode": {
    "name": "ipython",
    "version": 3
   },
   "file_extension": ".py",
   "mimetype": "text/x-python",
   "name": "python",
   "nbconvert_exporter": "python",
   "pygments_lexer": "ipython3",
   "version": "3.10.12"
  }
 },
 "nbformat": 4,
 "nbformat_minor": 2
}
