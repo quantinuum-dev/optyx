{
 "cells": [
  {
   "cell_type": "markdown",
   "metadata": {},
   "source": [
    "# Transpilation to Linear Optics via ZX Dual-Rail Encoding"
   ]
  },
  {
   "cell_type": "markdown",
   "metadata": {},
   "source": [
    "Start with a simple qubit quantum circuit."
   ]
  },
  {
   "cell_type": "code",
   "execution_count": 1,
   "metadata": {},
   "outputs": [
    {
     "data": {
      "image/png": "[encoded data removed]",
      "text/plain": [
       "<Figure size 200x300 with 1 Axes>"
      ]
     },
     "metadata": {},
     "output_type": "display_data"
    }
   ],
   "source": [
    "from discopy.quantum import CX, H, Id\n",
    "\n",
    "circuit = CX >> H @ Id(1) >> CX\n",
    "circuit.draw()"
   ]
  },
  {
   "cell_type": "markdown",
   "metadata": {},
   "source": [
    "Convert to ZX using `circuit2zx`"
   ]
  },
  {
   "cell_type": "code",
   "execution_count": 2,
   "metadata": {},
   "outputs": [
    {
     "data": {
      "image/png": "[encoded data removed]",
      "text/plain": [
       "<Figure size 400x700 with 1 Axes>"
      ]
     },
     "metadata": {},
     "output_type": "display_data"
    }
   ],
   "source": [
    "from discopy.quantum.zx import circuit2zx\n",
    "\n",
    "diagram = circuit2zx(circuit)\n",
    "diagram.draw()"
   ]
  },
  {
   "cell_type": "markdown",
   "metadata": {},
   "source": [
    "Convert to QPath using `zx_to_path`"
   ]
  },
  {
   "cell_type": "code",
   "execution_count": 4,
   "metadata": {
    "scrolled": true
   },
   "outputs": [
    {
     "ename": "TypeError",
     "evalue": "can only concatenate tuple (not \"Z\") to tuple",
     "output_type": "error",
     "traceback": [
      "\u001b[0;31m---------------------------------------------------------------------------\u001b[0m",
      "\u001b[0;31mTypeError\u001b[0m                                 Traceback (most recent call last)",
      "Cell \u001b[0;32mIn[4], line 3\u001b[0m\n\u001b[1;32m      1\u001b[0m \u001b[38;5;28;01mfrom\u001b[39;00m\u001b[38;5;250m \u001b[39m\u001b[38;5;21;01moptyx\u001b[39;00m\u001b[38;5;21;01m.\u001b[39;00m\u001b[38;5;21;01mcore\u001b[39;00m\u001b[38;5;21;01m.\u001b[39;00m\u001b[38;5;21;01mzx\u001b[39;00m\u001b[38;5;250m \u001b[39m\u001b[38;5;28;01mimport\u001b[39;00m zx_to_path\n\u001b[0;32m----> 3\u001b[0m circ \u001b[38;5;241m=\u001b[39m \u001b[43mzx_to_path\u001b[49m\u001b[43m(\u001b[49m\u001b[43mdiagram\u001b[49m\u001b[43m)\u001b[49m\n\u001b[1;32m      4\u001b[0m circ\u001b[38;5;241m.\u001b[39mdraw(draw_box_labels\u001b[38;5;241m=\u001b[39m\u001b[38;5;28;01mFalse\u001b[39;00m, draw_type_labels\u001b[38;5;241m=\u001b[39m\u001b[38;5;28;01mFalse\u001b[39;00m)\n",
      "File \u001b[0;32m~/Documents/optyx/dist_merge_gates/optyx/optyx/core/zx.py:634\u001b[0m, in \u001b[0;36mzx_to_path\u001b[0;34m(diagram)\u001b[0m\n\u001b[1;32m    630\u001b[0m \u001b[38;5;28;01mdef\u001b[39;00m\u001b[38;5;250m \u001b[39m\u001b[38;5;21mzx_to_path\u001b[39m(diagram: diagram\u001b[38;5;241m.\u001b[39mDiagram) \u001b[38;5;241m-\u001b[39m\u001b[38;5;241m>\u001b[39m diagram\u001b[38;5;241m.\u001b[39mDiagram:\n\u001b[1;32m    631\u001b[0m \u001b[38;5;250m    \u001b[39m\u001b[38;5;124;03m\"\"\"\u001b[39;00m\n\u001b[1;32m    632\u001b[0m \u001b[38;5;124;03m    Dual-rail encoding of any ZX diagram as a QPath diagram.\u001b[39;00m\n\u001b[1;32m    633\u001b[0m \u001b[38;5;124;03m    \"\"\"\u001b[39;00m\n\u001b[0;32m--> 634\u001b[0m     \u001b[38;5;28;01mreturn\u001b[39;00m zx2path(\u001b[43mdecomp\u001b[49m\u001b[43m(\u001b[49m\u001b[43mdiagram\u001b[49m\u001b[43m)\u001b[49m)\n",
      "File \u001b[0;32m~/.local/lib/python3.10/site-packages/discopy/symmetric.py:355\u001b[0m, in \u001b[0;36mFunctor.__call__\u001b[0;34m(self, other)\u001b[0m\n\u001b[1;32m    353\u001b[0m \u001b[38;5;28;01mif\u001b[39;00m \u001b[38;5;28misinstance\u001b[39m(other, Swap):\n\u001b[1;32m    354\u001b[0m     \u001b[38;5;28;01mreturn\u001b[39;00m \u001b[38;5;28mself\u001b[39m\u001b[38;5;241m.\u001b[39mcod\u001b[38;5;241m.\u001b[39mar\u001b[38;5;241m.\u001b[39mswap(\u001b[38;5;28mself\u001b[39m(other\u001b[38;5;241m.\u001b[39mdom[\u001b[38;5;241m0\u001b[39m]), \u001b[38;5;28mself\u001b[39m(other\u001b[38;5;241m.\u001b[39mdom[\u001b[38;5;241m1\u001b[39m]))\n\u001b[0;32m--> 355\u001b[0m \u001b[38;5;28;01mreturn\u001b[39;00m \u001b[38;5;28;43msuper\u001b[39;49m\u001b[43m(\u001b[49m\u001b[43m)\u001b[49m\u001b[38;5;241;43m.\u001b[39;49m\u001b[38;5;21;43m__call__\u001b[39;49m\u001b[43m(\u001b[49m\u001b[43mother\u001b[49m\u001b[43m)\u001b[49m\n",
      "File \u001b[0;32m~/.local/lib/python3.10/site-packages/discopy/balanced.py:213\u001b[0m, in \u001b[0;36mFunctor.__call__\u001b[0;34m(self, other)\u001b[0m\n\u001b[1;32m    211\u001b[0m \u001b[38;5;28;01mif\u001b[39;00m \u001b[38;5;28misinstance\u001b[39m(other, Trace):\n\u001b[1;32m    212\u001b[0m     \u001b[38;5;28;01mreturn\u001b[39;00m traced\u001b[38;5;241m.\u001b[39mFunctor\u001b[38;5;241m.\u001b[39m\u001b[38;5;21m__call__\u001b[39m(\u001b[38;5;28mself\u001b[39m, other)\n\u001b[0;32m--> 213\u001b[0m \u001b[38;5;28;01mreturn\u001b[39;00m \u001b[43mbraided\u001b[49m\u001b[38;5;241;43m.\u001b[39;49m\u001b[43mFunctor\u001b[49m\u001b[38;5;241;43m.\u001b[39;49m\u001b[38;5;21;43m__call__\u001b[39;49m\u001b[43m(\u001b[49m\u001b[38;5;28;43mself\u001b[39;49m\u001b[43m,\u001b[49m\u001b[43m \u001b[49m\u001b[43mother\u001b[49m\u001b[43m)\u001b[49m\n",
      "File \u001b[0;32m~/.local/lib/python3.10/site-packages/discopy/braided.py:259\u001b[0m, in \u001b[0;36mFunctor.__call__\u001b[0;34m(self, other)\u001b[0m\n\u001b[1;32m    257\u001b[0m \u001b[38;5;28;01mif\u001b[39;00m \u001b[38;5;28misinstance\u001b[39m(other, Braid) \u001b[38;5;129;01mand\u001b[39;00m \u001b[38;5;129;01mnot\u001b[39;00m other\u001b[38;5;241m.\u001b[39mis_dagger:\n\u001b[1;32m    258\u001b[0m     \u001b[38;5;28;01mreturn\u001b[39;00m \u001b[38;5;28mself\u001b[39m\u001b[38;5;241m.\u001b[39mcod\u001b[38;5;241m.\u001b[39mar\u001b[38;5;241m.\u001b[39mbraid(\u001b[38;5;28mself\u001b[39m(other\u001b[38;5;241m.\u001b[39mdom[\u001b[38;5;241m0\u001b[39m]), \u001b[38;5;28mself\u001b[39m(other\u001b[38;5;241m.\u001b[39mdom[\u001b[38;5;241m1\u001b[39m]))\n\u001b[0;32m--> 259\u001b[0m \u001b[38;5;28;01mreturn\u001b[39;00m \u001b[38;5;28;43msuper\u001b[39;49m\u001b[43m(\u001b[49m\u001b[43m)\u001b[49m\u001b[38;5;241;43m.\u001b[39;49m\u001b[38;5;21;43m__call__\u001b[39;49m\u001b[43m(\u001b[49m\u001b[43mother\u001b[49m\u001b[43m)\u001b[49m\n",
      "File \u001b[0;32m~/.local/lib/python3.10/site-packages/discopy/traced.py:275\u001b[0m, in \u001b[0;36mFunctor.__call__\u001b[0;34m(self, other)\u001b[0m\n\u001b[1;32m    273\u001b[0m     n \u001b[38;5;241m=\u001b[39m \u001b[38;5;28mlen\u001b[39m(\u001b[38;5;28mself\u001b[39m(other\u001b[38;5;241m.\u001b[39marg\u001b[38;5;241m.\u001b[39mdom)) \u001b[38;5;241m-\u001b[39m \u001b[38;5;28mlen\u001b[39m(\u001b[38;5;28mself\u001b[39m(other\u001b[38;5;241m.\u001b[39mdom))\n\u001b[1;32m    274\u001b[0m     \u001b[38;5;28;01mreturn\u001b[39;00m \u001b[38;5;28mself\u001b[39m\u001b[38;5;241m.\u001b[39mcod\u001b[38;5;241m.\u001b[39mar\u001b[38;5;241m.\u001b[39mtrace(\u001b[38;5;28mself\u001b[39m(other\u001b[38;5;241m.\u001b[39marg), n, left\u001b[38;5;241m=\u001b[39mother\u001b[38;5;241m.\u001b[39mleft)\n\u001b[0;32m--> 275\u001b[0m \u001b[38;5;28;01mreturn\u001b[39;00m \u001b[38;5;28;43msuper\u001b[39;49m\u001b[43m(\u001b[49m\u001b[43m)\u001b[49m\u001b[38;5;241;43m.\u001b[39;49m\u001b[38;5;21;43m__call__\u001b[39;49m\u001b[43m(\u001b[49m\u001b[43mother\u001b[49m\u001b[43m)\u001b[49m\n",
      "File \u001b[0;32m~/.local/lib/python3.10/site-packages/discopy/monoidal.py:1115\u001b[0m, in \u001b[0;36mFunctor.__call__\u001b[0;34m(self, other)\u001b[0m\n\u001b[1;32m   1113\u001b[0m \u001b[38;5;28;01mif\u001b[39;00m \u001b[38;5;28misinstance\u001b[39m(other, Bubble) \u001b[38;5;129;01mand\u001b[39;00m \u001b[38;5;28mself\u001b[39m\u001b[38;5;241m.\u001b[39mcod\u001b[38;5;241m.\u001b[39mar \u001b[38;5;129;01mis\u001b[39;00m Drawing:\n\u001b[1;32m   1114\u001b[0m     \u001b[38;5;28;01mreturn\u001b[39;00m other\u001b[38;5;241m.\u001b[39mto_drawing()\n\u001b[0;32m-> 1115\u001b[0m \u001b[38;5;28;01mreturn\u001b[39;00m \u001b[38;5;28;43msuper\u001b[39;49m\u001b[43m(\u001b[49m\u001b[43m)\u001b[49m\u001b[38;5;241;43m.\u001b[39;49m\u001b[38;5;21;43m__call__\u001b[39;49m\u001b[43m(\u001b[49m\u001b[43mother\u001b[49m\u001b[43m)\u001b[49m\n",
      "File \u001b[0;32m~/.local/lib/python3.10/site-packages/discopy/cat.py:912\u001b[0m, in \u001b[0;36mFunctor.__call__\u001b[0;34m(self, other)\u001b[0m\n\u001b[1;32m    910\u001b[0m result \u001b[38;5;241m=\u001b[39m \u001b[38;5;28mself\u001b[39m\u001b[38;5;241m.\u001b[39mcod\u001b[38;5;241m.\u001b[39mar\u001b[38;5;241m.\u001b[39mid(\u001b[38;5;28mself\u001b[39m(other\u001b[38;5;241m.\u001b[39mdom))\n\u001b[1;32m    911\u001b[0m \u001b[38;5;28;01mfor\u001b[39;00m box \u001b[38;5;129;01min\u001b[39;00m other\u001b[38;5;241m.\u001b[39minside:\n\u001b[0;32m--> 912\u001b[0m     result \u001b[38;5;241m=\u001b[39m result \u001b[38;5;241m>>\u001b[39m \u001b[38;5;28;43mself\u001b[39;49m\u001b[43m(\u001b[49m\u001b[43mbox\u001b[49m\u001b[43m)\u001b[49m\n\u001b[1;32m    913\u001b[0m \u001b[38;5;28;01mreturn\u001b[39;00m result\n",
      "File \u001b[0;32m~/.local/lib/python3.10/site-packages/discopy/symmetric.py:355\u001b[0m, in \u001b[0;36mFunctor.__call__\u001b[0;34m(self, other)\u001b[0m\n\u001b[1;32m    353\u001b[0m \u001b[38;5;28;01mif\u001b[39;00m \u001b[38;5;28misinstance\u001b[39m(other, Swap):\n\u001b[1;32m    354\u001b[0m     \u001b[38;5;28;01mreturn\u001b[39;00m \u001b[38;5;28mself\u001b[39m\u001b[38;5;241m.\u001b[39mcod\u001b[38;5;241m.\u001b[39mar\u001b[38;5;241m.\u001b[39mswap(\u001b[38;5;28mself\u001b[39m(other\u001b[38;5;241m.\u001b[39mdom[\u001b[38;5;241m0\u001b[39m]), \u001b[38;5;28mself\u001b[39m(other\u001b[38;5;241m.\u001b[39mdom[\u001b[38;5;241m1\u001b[39m]))\n\u001b[0;32m--> 355\u001b[0m \u001b[38;5;28;01mreturn\u001b[39;00m \u001b[38;5;28;43msuper\u001b[39;49m\u001b[43m(\u001b[49m\u001b[43m)\u001b[49m\u001b[38;5;241;43m.\u001b[39;49m\u001b[38;5;21;43m__call__\u001b[39;49m\u001b[43m(\u001b[49m\u001b[43mother\u001b[49m\u001b[43m)\u001b[49m\n",
      "File \u001b[0;32m~/.local/lib/python3.10/site-packages/discopy/balanced.py:213\u001b[0m, in \u001b[0;36mFunctor.__call__\u001b[0;34m(self, other)\u001b[0m\n\u001b[1;32m    211\u001b[0m \u001b[38;5;28;01mif\u001b[39;00m \u001b[38;5;28misinstance\u001b[39m(other, Trace):\n\u001b[1;32m    212\u001b[0m     \u001b[38;5;28;01mreturn\u001b[39;00m traced\u001b[38;5;241m.\u001b[39mFunctor\u001b[38;5;241m.\u001b[39m\u001b[38;5;21m__call__\u001b[39m(\u001b[38;5;28mself\u001b[39m, other)\n\u001b[0;32m--> 213\u001b[0m \u001b[38;5;28;01mreturn\u001b[39;00m \u001b[43mbraided\u001b[49m\u001b[38;5;241;43m.\u001b[39;49m\u001b[43mFunctor\u001b[49m\u001b[38;5;241;43m.\u001b[39;49m\u001b[38;5;21;43m__call__\u001b[39;49m\u001b[43m(\u001b[49m\u001b[38;5;28;43mself\u001b[39;49m\u001b[43m,\u001b[49m\u001b[43m \u001b[49m\u001b[43mother\u001b[49m\u001b[43m)\u001b[49m\n",
      "File \u001b[0;32m~/.local/lib/python3.10/site-packages/discopy/braided.py:259\u001b[0m, in \u001b[0;36mFunctor.__call__\u001b[0;34m(self, other)\u001b[0m\n\u001b[1;32m    257\u001b[0m \u001b[38;5;28;01mif\u001b[39;00m \u001b[38;5;28misinstance\u001b[39m(other, Braid) \u001b[38;5;129;01mand\u001b[39;00m \u001b[38;5;129;01mnot\u001b[39;00m other\u001b[38;5;241m.\u001b[39mis_dagger:\n\u001b[1;32m    258\u001b[0m     \u001b[38;5;28;01mreturn\u001b[39;00m \u001b[38;5;28mself\u001b[39m\u001b[38;5;241m.\u001b[39mcod\u001b[38;5;241m.\u001b[39mar\u001b[38;5;241m.\u001b[39mbraid(\u001b[38;5;28mself\u001b[39m(other\u001b[38;5;241m.\u001b[39mdom[\u001b[38;5;241m0\u001b[39m]), \u001b[38;5;28mself\u001b[39m(other\u001b[38;5;241m.\u001b[39mdom[\u001b[38;5;241m1\u001b[39m]))\n\u001b[0;32m--> 259\u001b[0m \u001b[38;5;28;01mreturn\u001b[39;00m \u001b[38;5;28;43msuper\u001b[39;49m\u001b[43m(\u001b[49m\u001b[43m)\u001b[49m\u001b[38;5;241;43m.\u001b[39;49m\u001b[38;5;21;43m__call__\u001b[39;49m\u001b[43m(\u001b[49m\u001b[43mother\u001b[49m\u001b[43m)\u001b[49m\n",
      "File \u001b[0;32m~/.local/lib/python3.10/site-packages/discopy/traced.py:275\u001b[0m, in \u001b[0;36mFunctor.__call__\u001b[0;34m(self, other)\u001b[0m\n\u001b[1;32m    273\u001b[0m     n \u001b[38;5;241m=\u001b[39m \u001b[38;5;28mlen\u001b[39m(\u001b[38;5;28mself\u001b[39m(other\u001b[38;5;241m.\u001b[39marg\u001b[38;5;241m.\u001b[39mdom)) \u001b[38;5;241m-\u001b[39m \u001b[38;5;28mlen\u001b[39m(\u001b[38;5;28mself\u001b[39m(other\u001b[38;5;241m.\u001b[39mdom))\n\u001b[1;32m    274\u001b[0m     \u001b[38;5;28;01mreturn\u001b[39;00m \u001b[38;5;28mself\u001b[39m\u001b[38;5;241m.\u001b[39mcod\u001b[38;5;241m.\u001b[39mar\u001b[38;5;241m.\u001b[39mtrace(\u001b[38;5;28mself\u001b[39m(other\u001b[38;5;241m.\u001b[39marg), n, left\u001b[38;5;241m=\u001b[39mother\u001b[38;5;241m.\u001b[39mleft)\n\u001b[0;32m--> 275\u001b[0m \u001b[38;5;28;01mreturn\u001b[39;00m \u001b[38;5;28;43msuper\u001b[39;49m\u001b[43m(\u001b[49m\u001b[43m)\u001b[49m\u001b[38;5;241;43m.\u001b[39;49m\u001b[38;5;21;43m__call__\u001b[39;49m\u001b[43m(\u001b[49m\u001b[43mother\u001b[49m\u001b[43m)\u001b[49m\n",
      "File \u001b[0;32m~/.local/lib/python3.10/site-packages/discopy/monoidal.py:1111\u001b[0m, in \u001b[0;36mFunctor.__call__\u001b[0;34m(self, other)\u001b[0m\n\u001b[1;32m   1109\u001b[0m     result \u001b[38;5;241m=\u001b[39m \u001b[38;5;28mself\u001b[39m(head)\n\u001b[1;32m   1110\u001b[0m     \u001b[38;5;28;01mfor\u001b[39;00m box_or_typ \u001b[38;5;129;01min\u001b[39;00m tail:\n\u001b[0;32m-> 1111\u001b[0m         result \u001b[38;5;241m=\u001b[39m result \u001b[38;5;241m@\u001b[39m \u001b[38;5;28;43mself\u001b[39;49m\u001b[43m(\u001b[49m\u001b[43mbox_or_typ\u001b[49m\u001b[43m)\u001b[49m\n\u001b[1;32m   1112\u001b[0m     \u001b[38;5;28;01mreturn\u001b[39;00m result\n\u001b[1;32m   1113\u001b[0m \u001b[38;5;28;01mif\u001b[39;00m \u001b[38;5;28misinstance\u001b[39m(other, Bubble) \u001b[38;5;129;01mand\u001b[39;00m \u001b[38;5;28mself\u001b[39m\u001b[38;5;241m.\u001b[39mcod\u001b[38;5;241m.\u001b[39mar \u001b[38;5;129;01mis\u001b[39;00m Drawing:\n",
      "File \u001b[0;32m~/.local/lib/python3.10/site-packages/discopy/symmetric.py:355\u001b[0m, in \u001b[0;36mFunctor.__call__\u001b[0;34m(self, other)\u001b[0m\n\u001b[1;32m    353\u001b[0m \u001b[38;5;28;01mif\u001b[39;00m \u001b[38;5;28misinstance\u001b[39m(other, Swap):\n\u001b[1;32m    354\u001b[0m     \u001b[38;5;28;01mreturn\u001b[39;00m \u001b[38;5;28mself\u001b[39m\u001b[38;5;241m.\u001b[39mcod\u001b[38;5;241m.\u001b[39mar\u001b[38;5;241m.\u001b[39mswap(\u001b[38;5;28mself\u001b[39m(other\u001b[38;5;241m.\u001b[39mdom[\u001b[38;5;241m0\u001b[39m]), \u001b[38;5;28mself\u001b[39m(other\u001b[38;5;241m.\u001b[39mdom[\u001b[38;5;241m1\u001b[39m]))\n\u001b[0;32m--> 355\u001b[0m \u001b[38;5;28;01mreturn\u001b[39;00m \u001b[38;5;28;43msuper\u001b[39;49m\u001b[43m(\u001b[49m\u001b[43m)\u001b[49m\u001b[38;5;241;43m.\u001b[39;49m\u001b[38;5;21;43m__call__\u001b[39;49m\u001b[43m(\u001b[49m\u001b[43mother\u001b[49m\u001b[43m)\u001b[49m\n",
      "File \u001b[0;32m~/.local/lib/python3.10/site-packages/discopy/balanced.py:213\u001b[0m, in \u001b[0;36mFunctor.__call__\u001b[0;34m(self, other)\u001b[0m\n\u001b[1;32m    211\u001b[0m \u001b[38;5;28;01mif\u001b[39;00m \u001b[38;5;28misinstance\u001b[39m(other, Trace):\n\u001b[1;32m    212\u001b[0m     \u001b[38;5;28;01mreturn\u001b[39;00m traced\u001b[38;5;241m.\u001b[39mFunctor\u001b[38;5;241m.\u001b[39m\u001b[38;5;21m__call__\u001b[39m(\u001b[38;5;28mself\u001b[39m, other)\n\u001b[0;32m--> 213\u001b[0m \u001b[38;5;28;01mreturn\u001b[39;00m \u001b[43mbraided\u001b[49m\u001b[38;5;241;43m.\u001b[39;49m\u001b[43mFunctor\u001b[49m\u001b[38;5;241;43m.\u001b[39;49m\u001b[38;5;21;43m__call__\u001b[39;49m\u001b[43m(\u001b[49m\u001b[38;5;28;43mself\u001b[39;49m\u001b[43m,\u001b[49m\u001b[43m \u001b[49m\u001b[43mother\u001b[49m\u001b[43m)\u001b[49m\n",
      "File \u001b[0;32m~/.local/lib/python3.10/site-packages/discopy/braided.py:259\u001b[0m, in \u001b[0;36mFunctor.__call__\u001b[0;34m(self, other)\u001b[0m\n\u001b[1;32m    257\u001b[0m \u001b[38;5;28;01mif\u001b[39;00m \u001b[38;5;28misinstance\u001b[39m(other, Braid) \u001b[38;5;129;01mand\u001b[39;00m \u001b[38;5;129;01mnot\u001b[39;00m other\u001b[38;5;241m.\u001b[39mis_dagger:\n\u001b[1;32m    258\u001b[0m     \u001b[38;5;28;01mreturn\u001b[39;00m \u001b[38;5;28mself\u001b[39m\u001b[38;5;241m.\u001b[39mcod\u001b[38;5;241m.\u001b[39mar\u001b[38;5;241m.\u001b[39mbraid(\u001b[38;5;28mself\u001b[39m(other\u001b[38;5;241m.\u001b[39mdom[\u001b[38;5;241m0\u001b[39m]), \u001b[38;5;28mself\u001b[39m(other\u001b[38;5;241m.\u001b[39mdom[\u001b[38;5;241m1\u001b[39m]))\n\u001b[0;32m--> 259\u001b[0m \u001b[38;5;28;01mreturn\u001b[39;00m \u001b[38;5;28;43msuper\u001b[39;49m\u001b[43m(\u001b[49m\u001b[43m)\u001b[49m\u001b[38;5;241;43m.\u001b[39;49m\u001b[38;5;21;43m__call__\u001b[39;49m\u001b[43m(\u001b[49m\u001b[43mother\u001b[49m\u001b[43m)\u001b[49m\n",
      "File \u001b[0;32m~/.local/lib/python3.10/site-packages/discopy/traced.py:275\u001b[0m, in \u001b[0;36mFunctor.__call__\u001b[0;34m(self, other)\u001b[0m\n\u001b[1;32m    273\u001b[0m     n \u001b[38;5;241m=\u001b[39m \u001b[38;5;28mlen\u001b[39m(\u001b[38;5;28mself\u001b[39m(other\u001b[38;5;241m.\u001b[39marg\u001b[38;5;241m.\u001b[39mdom)) \u001b[38;5;241m-\u001b[39m \u001b[38;5;28mlen\u001b[39m(\u001b[38;5;28mself\u001b[39m(other\u001b[38;5;241m.\u001b[39mdom))\n\u001b[1;32m    274\u001b[0m     \u001b[38;5;28;01mreturn\u001b[39;00m \u001b[38;5;28mself\u001b[39m\u001b[38;5;241m.\u001b[39mcod\u001b[38;5;241m.\u001b[39mar\u001b[38;5;241m.\u001b[39mtrace(\u001b[38;5;28mself\u001b[39m(other\u001b[38;5;241m.\u001b[39marg), n, left\u001b[38;5;241m=\u001b[39mother\u001b[38;5;241m.\u001b[39mleft)\n\u001b[0;32m--> 275\u001b[0m \u001b[38;5;28;01mreturn\u001b[39;00m \u001b[38;5;28;43msuper\u001b[39;49m\u001b[43m(\u001b[49m\u001b[43m)\u001b[49m\u001b[38;5;241;43m.\u001b[39;49m\u001b[38;5;21;43m__call__\u001b[39;49m\u001b[43m(\u001b[49m\u001b[43mother\u001b[49m\u001b[43m)\u001b[49m\n",
      "File \u001b[0;32m~/.local/lib/python3.10/site-packages/discopy/monoidal.py:1115\u001b[0m, in \u001b[0;36mFunctor.__call__\u001b[0;34m(self, other)\u001b[0m\n\u001b[1;32m   1113\u001b[0m \u001b[38;5;28;01mif\u001b[39;00m \u001b[38;5;28misinstance\u001b[39m(other, Bubble) \u001b[38;5;129;01mand\u001b[39;00m \u001b[38;5;28mself\u001b[39m\u001b[38;5;241m.\u001b[39mcod\u001b[38;5;241m.\u001b[39mar \u001b[38;5;129;01mis\u001b[39;00m Drawing:\n\u001b[1;32m   1114\u001b[0m     \u001b[38;5;28;01mreturn\u001b[39;00m other\u001b[38;5;241m.\u001b[39mto_drawing()\n\u001b[0;32m-> 1115\u001b[0m \u001b[38;5;28;01mreturn\u001b[39;00m \u001b[38;5;28;43msuper\u001b[39;49m\u001b[43m(\u001b[49m\u001b[43m)\u001b[49m\u001b[38;5;241;43m.\u001b[39;49m\u001b[38;5;21;43m__call__\u001b[39;49m\u001b[43m(\u001b[49m\u001b[43mother\u001b[49m\u001b[43m)\u001b[49m\n",
      "File \u001b[0;32m~/.local/lib/python3.10/site-packages/discopy/cat.py:908\u001b[0m, in \u001b[0;36mFunctor.__call__\u001b[0;34m(self, other)\u001b[0m\n\u001b[1;32m    905\u001b[0m     result \u001b[38;5;241m=\u001b[39m \u001b[38;5;28mself\u001b[39m\u001b[38;5;241m.\u001b[39mar[other]\n\u001b[1;32m    906\u001b[0m     \u001b[38;5;66;03m# This allows some nice syntactic sugar for the ar mapping.\u001b[39;00m\n\u001b[1;32m    907\u001b[0m     \u001b[38;5;28;01mreturn\u001b[39;00m result \u001b[38;5;28;01mif\u001b[39;00m \u001b[38;5;28misinstance\u001b[39m(result, \u001b[38;5;28mself\u001b[39m\u001b[38;5;241m.\u001b[39mcod\u001b[38;5;241m.\u001b[39mar)\\\n\u001b[0;32m--> 908\u001b[0m         \u001b[38;5;28;01melse\u001b[39;00m \u001b[38;5;28;43mself\u001b[39;49m\u001b[38;5;241;43m.\u001b[39;49m\u001b[43mcod\u001b[49m\u001b[38;5;241;43m.\u001b[39;49m\u001b[43mar\u001b[49m\u001b[43m(\u001b[49m\u001b[43mresult\u001b[49m\u001b[43m,\u001b[49m\u001b[43m \u001b[49m\u001b[38;5;28;43mself\u001b[39;49m\u001b[43m(\u001b[49m\u001b[43mother\u001b[49m\u001b[38;5;241;43m.\u001b[39;49m\u001b[43mdom\u001b[49m\u001b[43m)\u001b[49m\u001b[43m,\u001b[49m\u001b[43m \u001b[49m\u001b[38;5;28;43mself\u001b[39;49m\u001b[43m(\u001b[49m\u001b[43mother\u001b[49m\u001b[38;5;241;43m.\u001b[39;49m\u001b[43mcod\u001b[49m\u001b[43m)\u001b[49m\u001b[43m)\u001b[49m\n\u001b[1;32m    909\u001b[0m assert_isinstance(other, Arrow)\n\u001b[1;32m    910\u001b[0m result \u001b[38;5;241m=\u001b[39m \u001b[38;5;28mself\u001b[39m\u001b[38;5;241m.\u001b[39mcod\u001b[38;5;241m.\u001b[39mar\u001b[38;5;241m.\u001b[39mid(\u001b[38;5;28mself\u001b[39m(other\u001b[38;5;241m.\u001b[39mdom))\n",
      "File \u001b[0;32m~/.local/lib/python3.10/site-packages/discopy/monoidal.py:522\u001b[0m, in \u001b[0;36mDiagram.__init__\u001b[0;34m(self, inside, dom, cod, _scan)\u001b[0m\n\u001b[1;32m    520\u001b[0m \u001b[38;5;28;01mfor\u001b[39;00m layer \u001b[38;5;129;01min\u001b[39;00m inside:\n\u001b[1;32m    521\u001b[0m     assert_isinstance(layer, Layer)\n\u001b[0;32m--> 522\u001b[0m \u001b[38;5;28;43msuper\u001b[39;49m\u001b[43m(\u001b[49m\u001b[43m)\u001b[49m\u001b[38;5;241;43m.\u001b[39;49m\u001b[38;5;21;43m__init__\u001b[39;49m\u001b[43m(\u001b[49m\u001b[43minside\u001b[49m\u001b[43m,\u001b[49m\u001b[43m \u001b[49m\u001b[43mdom\u001b[49m\u001b[43m,\u001b[49m\u001b[43m \u001b[49m\u001b[43mcod\u001b[49m\u001b[43m,\u001b[49m\u001b[43m \u001b[49m\u001b[43m_scan\u001b[49m\u001b[38;5;241;43m=\u001b[39;49m\u001b[43m_scan\u001b[49m\u001b[43m)\u001b[49m\n",
      "File \u001b[0;32m~/.local/lib/python3.10/site-packages/discopy/cat.py:235\u001b[0m, in \u001b[0;36mArrow.__init__\u001b[0;34m(self, inside, dom, cod, _scan)\u001b[0m\n\u001b[1;32m    233\u001b[0m \u001b[38;5;28;01mfor\u001b[39;00m box \u001b[38;5;129;01min\u001b[39;00m inside:\n\u001b[1;32m    234\u001b[0m     assert_isinstance(box, Box)\n\u001b[0;32m--> 235\u001b[0m \u001b[38;5;28;01mfor\u001b[39;00m f, g \u001b[38;5;129;01min\u001b[39;00m \u001b[38;5;28mzip\u001b[39m(\u001b[43m(\u001b[49m\u001b[43mId\u001b[49m\u001b[43m(\u001b[49m\u001b[43mdom\u001b[49m\u001b[43m)\u001b[49m\u001b[43m,\u001b[49m\u001b[43m \u001b[49m\u001b[43m)\u001b[49m\u001b[43m \u001b[49m\u001b[38;5;241;43m+\u001b[39;49m\u001b[43m \u001b[49m\u001b[43minside\u001b[49m, inside \u001b[38;5;241m+\u001b[39m (Id(cod), )):\n\u001b[1;32m    236\u001b[0m     assert_iscomposable(f, g)\n",
      "\u001b[0;31mTypeError\u001b[0m: can only concatenate tuple (not \"Z\") to tuple"
     ]
    }
   ],
   "source": [
    "from optyx.core.zx import zx_to_path\n",
    "\n",
    "circ = zx_to_path(diagram)\n",
    "circ.draw(draw_box_labels=False, draw_type_labels=False)"
   ]
  },
  {
   "cell_type": "markdown",
   "metadata": {},
   "source": [
    "In the dual rail encoding, each qubit gets mapped to 2 linear optical modes.\n",
    "Specifically $\\ket{0}$ and $\\ket{1}$ get mapped to $\\ket{1, 0}$ and $\\ket{0, 1}$ respectively.\n",
    "\n",
    "Here are all the $n$ qubit dual rail states."
   ]
  },
  {
   "cell_type": "code",
   "execution_count": 4,
   "metadata": {},
   "outputs": [
    {
     "data": {
      "text/plain": [
       "[[1, 0, 1, 0, 1, 0],\n",
       " [1, 0, 1, 0, 0, 1],\n",
       " [1, 0, 0, 1, 1, 0],\n",
       " [1, 0, 0, 1, 0, 1],\n",
       " [0, 1, 1, 0, 1, 0],\n",
       " [0, 1, 1, 0, 0, 1],\n",
       " [0, 1, 0, 1, 1, 0],\n",
       " [0, 1, 0, 1, 0, 1]]"
      ]
     },
     "execution_count": 4,
     "metadata": {},
     "output_type": "execute_result"
    }
   ],
   "source": [
    "def dual_rail_states(n_qubits):\n",
    "    strings = []\n",
    "    def genbin(n, bs=[]):\n",
    "        if len(bs) == 2*n:\n",
    "            strings.append(bs)\n",
    "        else:\n",
    "            genbin(n, bs + [1, 0])\n",
    "            genbin(n, bs + [0, 1])\n",
    "    genbin(n_qubits)\n",
    "    return strings\n",
    "\n",
    "dual_rail_states(3)"
   ]
  },
  {
   "cell_type": "markdown",
   "metadata": {},
   "source": [
    "Then we calculate amplitudes of input output pair by sampling the permenant of the unitary associated with the QPath diagram (For details see https://arxiv.org/abs/1011.3245)."
   ]
  },
  {
   "cell_type": "code",
   "execution_count": 5,
   "metadata": {},
   "outputs": [],
   "source": [
    "def evaluate(circ, x, y):\n",
    "    \"\"\" Evaluate the probability of <y|U_h|x> \"\"\"\n",
    "    from optyx import Id, Create, Select\n",
    "    inp = Id().tensor(*[Create(i) for i in x])\n",
    "    out = Id().tensor(*[Select(i) for i in y])\n",
    "\n",
    "    return ((inp >> circ >> out).eval().array.flatten().item())"
   ]
  },
  {
   "cell_type": "code",
   "execution_count": 6,
   "metadata": {},
   "outputs": [
    {
     "data": {
      "text/plain": [
       "array([[ 0.707-0.j, -0.   +0.j,  0.   +0.j,  0.707+0.j],\n",
       "       [-0.   +0.j,  0.707+0.j,  0.707+0.j,  0.   -0.j],\n",
       "       [-0.   -0.j,  0.707-0.j, -0.707+0.j, -0.   -0.j],\n",
       "       [ 0.707-0.j, -0.   -0.j, -0.   -0.j, -0.707+0.j]])"
      ]
     },
     "execution_count": 6,
     "metadata": {},
     "output_type": "execute_result"
    }
   ],
   "source": [
    "import numpy as np\n",
    "\n",
    "states = dual_rail_states(len(circuit.cod))\n",
    "array = np.array([[evaluate(circ, x, y) for x in states] for y in states])\n",
    "np.round(array, decimals=3)"
   ]
  },
  {
   "cell_type": "markdown",
   "metadata": {},
   "source": [
    "which is equal to the direct simulation of the original quantum circuit."
   ]
  },
  {
   "cell_type": "code",
   "execution_count": 7,
   "metadata": {},
   "outputs": [
    {
     "data": {
      "text/plain": [
       "array([[ 0.707+0.j,  0.   +0.j,  0.   +0.j,  0.707+0.j],\n",
       "       [ 0.   +0.j,  0.707+0.j,  0.707+0.j,  0.   +0.j],\n",
       "       [ 0.   +0.j,  0.707+0.j, -0.707+0.j,  0.   +0.j],\n",
       "       [ 0.707+0.j,  0.   +0.j,  0.   +0.j, -0.707+0.j]])"
      ]
     },
     "execution_count": 7,
     "metadata": {},
     "output_type": "execute_result"
    }
   ],
   "source": [
    "np.round(circuit.eval().array.reshape(4, 4), decimals=3)"
   ]
  },
  {
   "cell_type": "code",
   "execution_count": null,
   "metadata": {},
   "outputs": [],
   "source": []
  }
 ],
 "metadata": {
  "kernelspec": {
   "display_name": "Python 3",
   "language": "python",
   "name": "python3"
  },
  "language_info": {
   "codemirror_mode": {
    "name": "ipython",
    "version": 3
   },
   "file_extension": ".py",
   "mimetype": "text/x-python",
   "name": "python",
   "nbconvert_exporter": "python",
   "pygments_lexer": "ipython3",
   "version": "3.10.12"
  }
 },
 "nbformat": 4,
 "nbformat_minor": 4
}
