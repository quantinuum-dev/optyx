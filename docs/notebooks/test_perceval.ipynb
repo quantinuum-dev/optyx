{
 "cells": [
  {
   "cell_type": "code",
   "execution_count": null,
   "metadata": {},
   "outputs": [],
   "source": [
    "# LO CIRCUITS\n",
    "# can always get a unitary matrix from a LO circuit in Perceval\n",
    "# we can convert a matrix into a ZW circuit in optyx\n",
    "# the opposite way is how we evaluate LO circuits in perceval"
   ]
  },
  {
   "cell_type": "code",
   "execution_count": null,
   "metadata": {},
   "outputs": [],
   "source": [
    "# MORE GENERAL CIRCUITS\n",
    "#"
   ]
  },
  {
   "cell_type": "code",
   "execution_count": 1,
   "metadata": {},
   "outputs": [],
   "source": [
    "import numpy as np\n",
    "\n",
    "import perceval as pcvl\n",
    "from perceval import catalog"
   ]
  },
  {
   "cell_type": "code",
   "execution_count": 2,
   "metadata": {},
   "outputs": [],
   "source": [
    "p = pcvl.Processor(\"SLOS\", 6)\n",
    "p.add(0, catalog[\"postprocessed cnot\"].build_processor())\n",
    "p.add(0, pcvl.BS.H());"
   ]
  },
  {
   "cell_type": "code",
   "execution_count": 4,
   "metadata": {},
   "outputs": [],
   "source": [
    "# 2 measured modes\n",
    "# offset = 0 means that there is 0 empty modes between the measured modes and the circuit\n",
    "# the default circuit is an empty circuit\n",
    "ff_X = pcvl.FFCircuitProvider(2, 0, pcvl.Circuit(2))\n",
    "\n",
    "# Now if we measure a logical state |1>, we need to perform a permutation of the modes\n",
    "ff_X.add_configuration([0, 1], pcvl.PERM([1, 0]))\n",
    "\n",
    "# Add perfect detectors to the modes that will be measured\n",
    "p.add(2, pcvl.Detector.pnr())\n",
    "p.add(3, pcvl.Detector.pnr())\n",
    "p.add(2, ff_X);"
   ]
  },
  {
   "cell_type": "code",
   "execution_count": 5,
   "metadata": {},
   "outputs": [],
   "source": [
    "phi = pcvl.P(\"phi\")\n",
    "# Like Circuits and Processors, we can chain the `add` methods\n",
    "ff_Z = pcvl.FFConfigurator(2, 3, pcvl.PS(phi), {\"phi\": 0}).add_configuration([0, 1], {\"phi\": np.pi})\n",
    "\n",
    "p.add(0, pcvl.Detector.pnr())\n",
    "p.add(1, pcvl.Detector.pnr())\n",
    "p.add(0, ff_Z);"
   ]
  },
  {
   "cell_type": "code",
   "execution_count": 8,
   "metadata": {},
   "outputs": [
    {
     "data": {
      "text/plain": [
       "[[[4, 5, 6, 7],\n",
       "  <perceval.components.unitary_components.PERM at 0x71ae703c2e90>],\n",
       " [[0, 1, 2, 3, 4, 5],\n",
       "  <perceval.components.linear_circuit.Circuit at 0x71aded2cb490>],\n",
       " [[4, 5, 6, 7],\n",
       "  <perceval.components.unitary_components.PERM at 0x71ae703918a0>],\n",
       " ((0, 1), <perceval.components.unitary_components.BS at 0x71aded2ca9e0>),\n",
       " ((0, 1, 2, 3, 4, 5),\n",
       "  <perceval.components.unitary_components.Barrier at 0x71aded105ae0>),\n",
       " ((0, 1), <perceval.components.unitary_components.Barrier at 0x71aded106d70>),\n",
       " ((2,), <perceval.components.detector.Detector at 0x71adf1766140>),\n",
       " ((3,), <perceval.components.detector.Detector at 0x71aded2ca5c0>),\n",
       " ((4, 5), <perceval.components.unitary_components.Barrier at 0x71aded106d40>),\n",
       " ((2, 3),\n",
       "  <perceval.components.feed_forward_configurator.FFCircuitProvider at 0x71ae702e4340>),\n",
       " ((0, 1, 2, 3, 4, 5),\n",
       "  <perceval.components.unitary_components.Barrier at 0x71aded105cf0>),\n",
       " ((0,), <perceval.components.detector.Detector at 0x71aded2cb310>),\n",
       " ((1,), <perceval.components.detector.Detector at 0x71aded2ca740>),\n",
       " ((2, 3, 4, 5),\n",
       "  <perceval.components.unitary_components.Barrier at 0x71aded105cc0>),\n",
       " ((0, 1),\n",
       "  <perceval.components.feed_forward_configurator.FFConfigurator at 0x71aded2ca860>)]"
      ]
     },
     "execution_count": 8,
     "metadata": {},
     "output_type": "execute_result"
    }
   ],
   "source": [
    "p.components"
   ]
  },
  {
   "cell_type": "code",
   "execution_count": 9,
   "metadata": {},
   "outputs": [
    {
     "data": {
      "text/plain": [
       "[[4, 5, 6, 7], <perceval.components.unitary_components.PERM at 0x71ae703c2e90>]"
      ]
     },
     "execution_count": 9,
     "metadata": {},
     "output_type": "execute_result"
    }
   ],
   "source": [
    "p.components[0]"
   ]
  },
  {
   "cell_type": "code",
   "execution_count": 11,
   "metadata": {},
   "outputs": [
    {
     "data": {
      "text/plain": [
       "MatrixN([[0.+0.j, 0.+0.j, 1.+0.j, 0.+0.j],\n",
       "         [0.+0.j, 0.+0.j, 0.+0.j, 1.+0.j],\n",
       "         [1.+0.j, 0.+0.j, 0.+0.j, 0.+0.j],\n",
       "         [0.+0.j, 1.+0.j, 0.+0.j, 0.+0.j]])"
      ]
     },
     "execution_count": 11,
     "metadata": {},
     "output_type": "execute_result"
    }
   ],
   "source": [
    "p.components[0][1].U"
   ]
  },
  {
   "cell_type": "code",
   "execution_count": null,
   "metadata": {},
   "outputs": [],
   "source": [
    "# each component has a matrix, therefore can be easily converted to a ZW circuit"
   ]
  }
 ],
 "metadata": {
  "kernelspec": {
   "display_name": "Python 3",
   "language": "python",
   "name": "python3"
  },
  "language_info": {
   "codemirror_mode": {
    "name": "ipython",
    "version": 3
   },
   "file_extension": ".py",
   "mimetype": "text/x-python",
   "name": "python",
   "nbconvert_exporter": "python",
   "pygments_lexer": "ipython3",
   "version": "3.10.12"
  }
 },
 "nbformat": 4,
 "nbformat_minor": 2
}
