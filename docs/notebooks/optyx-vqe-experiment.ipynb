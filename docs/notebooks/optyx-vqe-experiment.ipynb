{
 "cells": [
  {
   "cell_type": "markdown",
   "id": "94adfdb0-a537-45d5-9df3-7e5319e10fe1",
   "metadata": {},
   "source": [
    "# Toy VQE Experiment using linear optical differentiation"
   ]
  },
  {
   "cell_type": "markdown",
   "id": "7cd36973-2041-4608-a6a9-818b73c8fe1b",
   "metadata": {},
   "source": [
    "We use the method of differentiating linear optics from https://arxiv.org/abs/2401.07997 to perform a toy **V**ariational **Q**uantum **E**igensolver experiment."
   ]
  },
  {
   "cell_type": "markdown",
   "id": "c1bb5808-cc94-4d07-95e5-3c4fb2374bc2",
   "metadata": {},
   "source": [
    "The purpose of VQE is to find the ground state $\\ket{\\psi(\\theta)}$ of an observable $H$."
   ]
  },
  {
   "cell_type": "code",
   "execution_count": 1,
   "id": "7ae6f04b-f451-46d7-9f61-3c49dca00cb0",
   "metadata": {},
   "outputs": [
    {
     "data": {
      "image/png": "[encoded data removed]",
      "text/plain": [
       "<Figure size 200x600 with 1 Axes>"
      ]
     },
     "metadata": {},
     "output_type": "display_data"
    }
   ],
   "source": [
    "from discopy.quantum.circuit import Id\n",
    "from discopy.quantum.gates import X, Ket, Bra, H, CRz, Rz\n",
    "from sympy import Symbol\n",
    "\n",
    "syms = [Symbol(f's{i}') for i in range(3)]\n",
    "circ = Ket(0, 0).H(0).H(1).Rz(syms[0], 0).Rz(syms[1], 1).CZ(0, 1)\n",
    "\n",
    "circ.draw()"
   ]
  },
  {
   "cell_type": "markdown",
   "id": "e92b2110-7f5e-4ec0-a124-bcd57e8f9d54",
   "metadata": {},
   "source": [
    "Construct $E = \\bra{\\psi(-\\theta)}H\\ket{\\psi(\\theta)}$\n",
    "\n",
    "$H = \\frac{1}{2}[(Z + X)\\otimes(Z + X)]$ is an Hermitian matrix.\n",
    "\n",
    "The ground state is the state which minimises the expression $\\bra{\\psi(-\\theta)}H\\ket{\\psi(\\theta)}\\$, known as the expectation of the observable."
   ]
  },
  {
   "cell_type": "code",
   "execution_count": 2,
   "id": "3ea77fb4-4167-4602-ae3b-97e3dd2d566e",
   "metadata": {},
   "outputs": [
    {
     "data": {
      "image/png": "[encoded data removed]",
      "text/plain": [
       "<Figure size 200x1400 with 1 Axes>"
      ]
     },
     "metadata": {},
     "output_type": "display_data"
    }
   ],
   "source": [
    "exp = circ >> Id().tensor(*[H] * len(circ.cod)) >> circ.dagger()\n",
    "exp.draw()"
   ]
  },
  {
   "cell_type": "code",
   "execution_count": 3,
   "id": "4eba72aa-fbeb-4abf-aae8-09b2097322f8",
   "metadata": {},
   "outputs": [],
   "source": [
    "from optyx.qubits import Circuit\n",
    "from optyx.core.backends import DiscopyBackend"
   ]
  },
  {
   "cell_type": "code",
   "execution_count": 7,
   "id": "0406fa28",
   "metadata": {},
   "outputs": [],
   "source": [
    "path_exp = Circuit(exp).to_dual_rail()"
   ]
  },
  {
   "cell_type": "code",
   "execution_count": null,
   "id": "b86a1407-e4ce-4776-ac0e-ce23ea5a9fff",
   "metadata": {},
   "outputs": [],
   "source": [
    "def to_float(x):\n",
    "    if isinstance(x, complex):\n",
    "        assert x.imag < 1e-10\n",
    "        return x.real\n",
    "    return x\n",
    "\n",
    "free_syms = exp.free_symbols\n",
    "\n",
    "path_exp = Circuit(exp).to_dual_rail()\n",
    "\n",
    "f_exp = lambda xs: to_float(path_exp.lambdify(*free_syms)(*xs).eval().tensor.array)\n",
    "orig_f_exp = lambda xs: to_float(exp.lambdify(*free_syms)(*xs).eval().array.item())\n",
    "\n",
    "def d_f_exp(xs):\n",
    "    return [\n",
    "        path_exp.grad(s).lambdify(*free_syms)(*xs).eval().tensor.array\n",
    "        for s in free_syms\n",
    "    ]"
   ]
  },
  {
   "cell_type": "markdown",
   "id": "34fd9040-7fc4-4750-891e-86ac83389335",
   "metadata": {},
   "source": [
    "We use gradient descent to minimise the expectation."
   ]
  },
  {
   "cell_type": "code",
   "execution_count": null,
   "id": "41ea980c-40c4-4bd2-8731-fc84fb110f41",
   "metadata": {},
   "outputs": [],
   "source": [
    "from tqdm import tqdm\n",
    "\n",
    "xs = []\n",
    "fxs = []\n",
    "dfxs = []\n",
    "\n",
    "def optimize(x0):\n",
    "    x = x0\n",
    "\n",
    "    for _ in tqdm(range(20)):\n",
    "        orig_fx = orig_f_exp(x)\n",
    "        fx = f_exp(x)\n",
    "        dfx = d_f_exp(x)\n",
    "        # verifies that the conversion is correct\n",
    "        assert abs(orig_fx - fx) < 1e-10\n",
    "\n",
    "        xs.append(x[::])\n",
    "        fxs.append(fx)\n",
    "        dfxs.append(dfx)\n",
    "        for i, dfxx in enumerate(dfx):\n",
    "            x[i] = to_float(x[i] - 0.01 * dfxx)\n",
    "    xs.append(x[::])\n",
    "    fxs.append(f_exp(x))\n",
    "    dfxs.append(d_f_exp(x))"
   ]
  },
  {
   "cell_type": "code",
   "execution_count": 10,
   "id": "cd5e3e93-5d75-415d-bbcc-14022c9ecf97",
   "metadata": {
    "scrolled": true
   },
   "outputs": [
    {
     "name": "stderr",
     "output_type": "stream",
     "text": [
      "  5%|▌         | 1/20 [00:02<00:41,  2.20s/it]"
     ]
    },
    {
     "name": "stdout",
     "output_type": "stream",
     "text": [
      "0.8385254915624215\n"
     ]
    },
    {
     "name": "stderr",
     "output_type": "stream",
     "text": [
      " 10%|█         | 2/20 [00:04<00:38,  2.16s/it]"
     ]
    },
    {
     "name": "stdout",
     "output_type": "stream",
     "text": [
      "0.7711039313289111\n"
     ]
    },
    {
     "name": "stderr",
     "output_type": "stream",
     "text": [
      " 15%|█▌        | 3/20 [00:06<00:36,  2.15s/it]"
     ]
    },
    {
     "name": "stdout",
     "output_type": "stream",
     "text": [
      "0.6787280203868928\n"
     ]
    },
    {
     "name": "stderr",
     "output_type": "stream",
     "text": [
      " 20%|██        | 4/20 [00:08<00:33,  2.09s/it]"
     ]
    },
    {
     "name": "stdout",
     "output_type": "stream",
     "text": [
      "0.561851722253541\n"
     ]
    },
    {
     "name": "stderr",
     "output_type": "stream",
     "text": [
      " 25%|██▌       | 5/20 [00:10<00:31,  2.12s/it]"
     ]
    },
    {
     "name": "stdout",
     "output_type": "stream",
     "text": [
      "0.4296238247323758\n"
     ]
    },
    {
     "name": "stderr",
     "output_type": "stream",
     "text": [
      " 30%|███       | 6/20 [00:12<00:29,  2.13s/it]"
     ]
    },
    {
     "name": "stdout",
     "output_type": "stream",
     "text": [
      "0.29959341800206996\n"
     ]
    },
    {
     "name": "stderr",
     "output_type": "stream",
     "text": [
      " 35%|███▌      | 7/20 [00:14<00:27,  2.13s/it]"
     ]
    },
    {
     "name": "stdout",
     "output_type": "stream",
     "text": [
      "0.18996344005095658\n"
     ]
    },
    {
     "name": "stderr",
     "output_type": "stream",
     "text": [
      " 40%|████      | 8/20 [00:16<00:25,  2.09s/it]"
     ]
    },
    {
     "name": "stdout",
     "output_type": "stream",
     "text": [
      "0.10985803661254136\n"
     ]
    },
    {
     "name": "stderr",
     "output_type": "stream",
     "text": [
      " 45%|████▌     | 9/20 [00:19<00:23,  2.11s/it]"
     ]
    },
    {
     "name": "stdout",
     "output_type": "stream",
     "text": [
      "0.057103882372305376\n"
     ]
    },
    {
     "name": "stderr",
     "output_type": "stream",
     "text": [
      " 50%|█████     | 10/20 [00:21<00:21,  2.11s/it]"
     ]
    },
    {
     "name": "stdout",
     "output_type": "stream",
     "text": [
      "0.023521573022446115\n"
     ]
    },
    {
     "name": "stderr",
     "output_type": "stream",
     "text": [
      " 55%|█████▌    | 11/20 [00:23<00:18,  2.08s/it]"
     ]
    },
    {
     "name": "stdout",
     "output_type": "stream",
     "text": [
      "0.000415985082452835\n"
     ]
    },
    {
     "name": "stderr",
     "output_type": "stream",
     "text": [
      " 60%|██████    | 12/20 [00:25<00:16,  2.10s/it]"
     ]
    },
    {
     "name": "stdout",
     "output_type": "stream",
     "text": [
      "-0.01932481270375224\n"
     ]
    },
    {
     "name": "stderr",
     "output_type": "stream",
     "text": [
      " 65%|██████▌   | 13/20 [00:27<00:14,  2.11s/it]"
     ]
    },
    {
     "name": "stdout",
     "output_type": "stream",
     "text": [
      "-0.04148099296641865\n"
     ]
    },
    {
     "name": "stderr",
     "output_type": "stream",
     "text": [
      " 70%|███████   | 14/20 [00:29<00:12,  2.08s/it]"
     ]
    },
    {
     "name": "stdout",
     "output_type": "stream",
     "text": [
      "-0.0714343170674597\n"
     ]
    },
    {
     "name": "stderr",
     "output_type": "stream",
     "text": [
      " 75%|███████▌  | 15/20 [00:31<00:10,  2.10s/it]"
     ]
    },
    {
     "name": "stdout",
     "output_type": "stream",
     "text": [
      "-0.11488446907551937\n"
     ]
    },
    {
     "name": "stderr",
     "output_type": "stream",
     "text": [
      " 80%|████████  | 16/20 [00:33<00:08,  2.11s/it]"
     ]
    },
    {
     "name": "stdout",
     "output_type": "stream",
     "text": [
      "-0.17779636062909193\n"
     ]
    },
    {
     "name": "stderr",
     "output_type": "stream",
     "text": [
      " 85%|████████▌ | 17/20 [00:35<00:06,  2.11s/it]"
     ]
    },
    {
     "name": "stdout",
     "output_type": "stream",
     "text": [
      "-0.2649466539403759\n"
     ]
    },
    {
     "name": "stderr",
     "output_type": "stream",
     "text": [
      " 90%|█████████ | 18/20 [00:37<00:04,  2.09s/it]"
     ]
    },
    {
     "name": "stdout",
     "output_type": "stream",
     "text": [
      "-0.3766785210831544\n"
     ]
    },
    {
     "name": "stderr",
     "output_type": "stream",
     "text": [
      " 95%|█████████▌| 19/20 [00:40<00:02,  2.11s/it]"
     ]
    },
    {
     "name": "stdout",
     "output_type": "stream",
     "text": [
      "-0.5051429153418859\n"
     ]
    },
    {
     "name": "stderr",
     "output_type": "stream",
     "text": [
      "100%|██████████| 20/20 [00:42<00:00,  2.11s/it]"
     ]
    },
    {
     "name": "stdout",
     "output_type": "stream",
     "text": [
      "-0.6340993442622342\n"
     ]
    },
    {
     "name": "stderr",
     "output_type": "stream",
     "text": [
      "\n"
     ]
    }
   ],
   "source": [
    "optimize([0.1, 0.2])"
   ]
  },
  {
   "cell_type": "code",
   "execution_count": 11,
   "id": "3a0c4436-86d9-4a16-9bc2-7eba1cc440f7",
   "metadata": {},
   "outputs": [
    {
     "data": {
      "text/plain": [
       "<Axes: >"
      ]
     },
     "execution_count": 11,
     "metadata": {},
     "output_type": "execute_result"
    },
    {
     "data": {
      "image/png": "[encoded data removed]",
      "text/plain": [
       "<Figure size 640x480 with 1 Axes>"
      ]
     },
     "metadata": {},
     "output_type": "display_data"
    }
   ],
   "source": [
    "from pandas import DataFrame, Series\n",
    "\n",
    "DataFrame({\n",
    "    'Expectation': fxs,\n",
    "    **{f'x{i}': [v[i] for v in xs] for i in range(len(free_syms))}\n",
    "}).plot()"
   ]
  },
  {
   "cell_type": "code",
   "execution_count": null,
   "id": "c4e312d7",
   "metadata": {},
   "outputs": [],
   "source": []
  }
 ],
 "metadata": {
  "kernelspec": {
   "display_name": ".venv",
   "language": "python",
   "name": "python3"
  },
  "language_info": {
   "codemirror_mode": {
    "name": "ipython",
    "version": 3
   },
   "file_extension": ".py",
   "mimetype": "text/x-python",
   "name": "python",
   "nbconvert_exporter": "python",
   "pygments_lexer": "ipython3",
   "version": "3.12.3"
  }
 },
 "nbformat": 4,
 "nbformat_minor": 5
}
