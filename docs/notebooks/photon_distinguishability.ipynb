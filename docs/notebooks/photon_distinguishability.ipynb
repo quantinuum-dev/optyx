{
 "cells": [
  {
   "cell_type": "markdown",
   "metadata": {},
   "source": [
    "# Distinguishability"
   ]
  },
  {
   "cell_type": "markdown",
   "metadata": {},
   "source": [
    "### What is photon distinguishability?"
   ]
  },
  {
   "cell_type": "markdown",
   "metadata": {},
   "source": [
    "Ideal photonic quantum computing assumes that the photons are indistinguishable -- that they cannot be distinguished by ``internal'', or unobserved, degrees of freedom (such as frequency, bandwidth, polarization, spatial mode, and arrival time). In practice, this assumption is not met. Any imperfections in hardware will cause the internal states of photons to differ.\n",
    "\n",
    "Photon indistinguishability is crucial because nearly all photonic quantum-processing schemes rely on multi-photon interference (for example, the famous Hong–Ou–Mandel effect). When two or more photons arrive at a beamsplitter in indistinguishable states, they “bunch” together (i.e., exit in the same mode) with high probability due to quantum interference. This is the basis for many gate implementations, such as controlled-NOT gates and other linear optical circuits used in boson sampling or other quantum protocols.\n",
    "\n",
    " Graphically, we can represent (and compute the effect of) the Hong-Ou-Mandel effect as follows:\n",
    "\n",
    " ![HOM](./hom.png \"Hong-Ou-Mandel Effect\")"
   ]
  },
  {
   "cell_type": "markdown",
   "metadata": {},
   "source": [
    "#### How is photon distinguishability implemented in Optyx?"
   ]
  },
  {
   "cell_type": "markdown",
   "metadata": {},
   "source": [
    "In optyx, we treat each bosonic wire as encoding a probability amplitude of an internal state of a photon.\n",
    "\n",
    "When creating a photon we can give an internal state of some dimension *d*, which will be used to compare the degree of distinguishability between photons. Different photon creations within a diagram can have different internal states. \n",
    "\n",
    "The amplitudes and probabilities for circuits with internal states are computing by *inflating* the diagram by *d*."
   ]
  },
  {
   "cell_type": "code",
   "execution_count": 1,
   "metadata": {},
   "outputs": [
    {
     "data": {
      "image/png": "[encoded data removed]",
      "text/plain": [
       "<Figure size 600x300 with 1 Axes>"
      ]
     },
     "metadata": {},
     "output_type": "display_data"
    }
   ],
   "source": [
    "from optyx.zw import Create\n",
    "\n",
    "state1 = [1, 0]\n",
    "state2 = [0.5**0.5, 0.5**0.5]\n",
    "\n",
    "Create(1, internal_states=(state2, )).inflate(2).foliation().draw(figsize=(6, 3))"
   ]
  },
  {
   "cell_type": "markdown",
   "metadata": {},
   "source": [
    "Similarly, every DualRail box with an internal state can be inflated."
   ]
  },
  {
   "cell_type": "code",
   "execution_count": 2,
   "metadata": {},
   "outputs": [
    {
     "data": {
      "image/png": "[encoded data removed]",
      "text/plain": [
       "<Figure size 400x400 with 1 Axes>"
      ]
     },
     "metadata": {},
     "output_type": "display_data"
    }
   ],
   "source": [
    "from optyx.optyx import DualRail\n",
    "\n",
    "DualRail(internal_state=state1).inflate(2).foliation().draw()"
   ]
  },
  {
   "cell_type": "markdown",
   "metadata": {},
   "source": [
    "### HOM with indistinguishable photons"
   ]
  },
  {
   "cell_type": "markdown",
   "metadata": {},
   "source": [
    "We will show that if the photons are non-distinguishable, we obtain a perfect Hong-Ou-Mandel effect."
   ]
  },
  {
   "cell_type": "code",
   "execution_count": 3,
   "metadata": {},
   "outputs": [],
   "source": [
    "from optyx.channel import Channel\n",
    "from optyx.lo import BS\n",
    "from optyx.channel import qmode, Measure"
   ]
  },
  {
   "cell_type": "markdown",
   "metadata": {},
   "source": [
    "The states of two particles are the same:"
   ]
  },
  {
   "cell_type": "code",
   "execution_count": 4,
   "metadata": {},
   "outputs": [],
   "source": [
    "internal_state_1 = [0.5**0.5, 0.5**0.5]\n",
    "internal_state_2 = [0.5**0.5, 0.5**0.5]"
   ]
  },
  {
   "cell_type": "code",
   "execution_count": 5,
   "metadata": {},
   "outputs": [],
   "source": [
    "channel_BS = (Channel(\n",
    "    \"BS\",\n",
    "        (\n",
    "            Create(1, 1, internal_states=(internal_state_1,\n",
    "                                          internal_state_2)) >>\n",
    "            BS\n",
    "        )\n",
    "    ) >> Measure(qmode**2)\n",
    ").inflate(len(internal_state_1))"
   ]
  },
  {
   "cell_type": "code",
   "execution_count": 6,
   "metadata": {},
   "outputs": [],
   "source": [
    "result = channel_BS.double().to_zw().to_tensor(max_dim=3).eval().array"
   ]
  },
  {
   "cell_type": "code",
   "execution_count": 7,
   "metadata": {
    "scrolled": true
   },
   "outputs": [
    {
     "name": "stdout",
     "output_type": "stream",
     "text": [
      "{(0, 2): (0.5+0j), (2, 0): (0.5+0j)}\n"
     ]
    }
   ],
   "source": [
    "import numpy as np\n",
    "\n",
    "rounded_result = np.round(result, 3)\n",
    "\n",
    "non_zero_dict = {idx: val for idx, val in np.ndenumerate(rounded_result) if val != 0}\n",
    "print(non_zero_dict)"
   ]
  },
  {
   "cell_type": "markdown",
   "metadata": {},
   "source": [
    "This means that we cannot get a single photon at each output."
   ]
  },
  {
   "cell_type": "markdown",
   "metadata": {},
   "source": [
    "### HOM with distinguishable photons"
   ]
  },
  {
   "cell_type": "markdown",
   "metadata": {},
   "source": [
    "Here, we define states which are different:"
   ]
  },
  {
   "cell_type": "code",
   "execution_count": 8,
   "metadata": {},
   "outputs": [],
   "source": [
    "internal_state_1 = np.random.rand(2) + 1j*np.random.rand(2)\n",
    "internal_state_1 = internal_state_1 / np.linalg.norm(internal_state_1)\n",
    "internal_state_2 = np.random.rand(2) + 1j*np.random.rand(2)\n",
    "internal_state_2 = internal_state_2 / np.linalg.norm(internal_state_2)"
   ]
  },
  {
   "cell_type": "code",
   "execution_count": 9,
   "metadata": {},
   "outputs": [
    {
     "data": {
      "text/plain": [
       "array([0.48345461+0.58629998j, 0.38704635+0.52222514j])"
      ]
     },
     "execution_count": 9,
     "metadata": {},
     "output_type": "execute_result"
    }
   ],
   "source": [
    "internal_state_1"
   ]
  },
  {
   "cell_type": "code",
   "execution_count": 10,
   "metadata": {},
   "outputs": [
    {
     "data": {
      "text/plain": [
       "array([0.47920141+0.44241594j, 0.55600383+0.51526098j])"
      ]
     },
     "execution_count": 10,
     "metadata": {},
     "output_type": "execute_result"
    }
   ],
   "source": [
    "internal_state_2"
   ]
  },
  {
   "cell_type": "code",
   "execution_count": 11,
   "metadata": {},
   "outputs": [],
   "source": [
    "channel_BS = (Channel(\n",
    "    \"BS\",\n",
    "        (\n",
    "            Create(1, 1, internal_states=(internal_state_1,\n",
    "                                          internal_state_2)) >>\n",
    "            BS\n",
    "        )\n",
    "    ) >> Measure(qmode**2)\n",
    ").inflate(2)"
   ]
  },
  {
   "cell_type": "code",
   "execution_count": 12,
   "metadata": {},
   "outputs": [],
   "source": [
    "result = channel_BS.double().to_zw().to_tensor(max_dim=3).eval().array"
   ]
  },
  {
   "cell_type": "code",
   "execution_count": 13,
   "metadata": {},
   "outputs": [
    {
     "name": "stdout",
     "output_type": "stream",
     "text": [
      "{(0, 2): (0.494064+0j), (1, 1): (0.011872+0j), (2, 0): (0.494064+0j)}\n"
     ]
    }
   ],
   "source": [
    "import numpy as np\n",
    "\n",
    "rounded_result = np.round(result, 6)\n",
    "\n",
    "non_zero_dict = {idx: val for idx, val in np.ndenumerate(rounded_result) if val != 0}\n",
    "print(non_zero_dict)"
   ]
  },
  {
   "cell_type": "markdown",
   "metadata": {},
   "source": [
    "We obtain a single photon at each output with 1/4 probability. This can be confirmed using the formula: $\\frac{1}{2} - \\frac{1}{2} \\left| \\langle \\psi_0 | \\psi_1 \\rangle \\right|^2$"
   ]
  },
  {
   "cell_type": "code",
   "execution_count": 14,
   "metadata": {},
   "outputs": [
    {
     "data": {
      "text/plain": [
       "0.011872377741464324"
      ]
     },
     "execution_count": 14,
     "metadata": {},
     "output_type": "execute_result"
    }
   ],
   "source": [
    "0.5 - 0.5*np.abs(np.array(internal_state_1).dot(np.array(internal_state_2).conjugate()))**2"
   ]
  },
  {
   "cell_type": "markdown",
   "metadata": {},
   "source": [
    "### Fusion with distinguishable photons\n",
    "\n",
    "We now define a fusion measurement and consider the influence of distinguishability in a fusion induced Bell pair."
   ]
  },
  {
   "cell_type": "code",
   "execution_count": 15,
   "metadata": {},
   "outputs": [
    {
     "data": {
      "image/png": "[encoded data removed]",
      "text/plain": [
       "<Figure size 600x300 with 1 Axes>"
      ]
     },
     "metadata": {},
     "output_type": "display_data"
    }
   ],
   "source": [
    "from optyx.channel import Channel\n",
    "from optyx.lo import BS_hadamard\n",
    "\n",
    "from optyx.optyx import (\n",
    "    DualRail,\n",
    "    Bit,\n",
    "    Mode,\n",
    "    Swap\n",
    ")\n",
    "\n",
    "kraus_map_fusion = (\n",
    "    Mode(1) @ Swap(Mode(1), Mode(1)) @ Mode(1) >>\n",
    "    Mode(1) @ BS_hadamard @ Mode(1) >>\n",
    "    Swap(Mode(1), Mode(1)) @ Mode(1) @ Mode(1) >>\n",
    "    Mode(1) @ Swap(Mode(1), Mode(1)) @ Mode(1) >>\n",
    "    Mode(1) @ Mode(1) @ BS_hadamard\n",
    ")\n",
    "\n",
    "fusion = Channel(\n",
    "    \"Fusion\",\n",
    "    kraus_map_fusion\n",
    ")\n",
    "\n",
    "from optyx.feed_forward.classical_control import (\n",
    "    ClassicalFunctionBox,\n",
    "    ControlChannel\n",
    ")\n",
    "\n",
    "def fusion_function(x):\n",
    "    \"\"\"\n",
    "    A classical function that returns two bits based on an input x,\n",
    "    based on the classical logical for the Fusion type II circuit.\n",
    "    \"\"\"\n",
    "    a = x[0]\n",
    "    b = x[1]\n",
    "    c = x[2]\n",
    "    d = x[3]\n",
    "    s = (a % 2) ^ (b % 2)\n",
    "    k = int(s*(b + d) + (1-s)*(1 - (a + b)/2))%2\n",
    "    return [s, k]\n",
    "\n",
    "classical_function = ControlChannel(\n",
    "    ClassicalFunctionBox(\n",
    "        fusion_function,\n",
    "        Mode(4),\n",
    "        Bit(2)\n",
    "    )\n",
    ")\n",
    "\n",
    "fusion_channel = fusion >> Measure(qmode**4) >> classical_function\n",
    "fusion_channel.draw(figsize=(6, 3))"
   ]
  },
  {
   "cell_type": "code",
   "execution_count": 24,
   "metadata": {},
   "outputs": [
    {
     "name": "stdout",
     "output_type": "stream",
     "text": [
      "[1, 0] [0.9701425  0.24253563]\n"
     ]
    }
   ],
   "source": [
    "from optyx import channel\n",
    "amp = 0.1\n",
    "internal_state_1 = [1, 0]\n",
    "internal_state_2 = [0.8, 0.2]\n",
    "internal_state_2 = internal_state_2 / np.linalg.norm(internal_state_2)\n",
    "\n",
    "print(internal_state_1, internal_state_2)"
   ]
  },
  {
   "cell_type": "code",
   "execution_count": 25,
   "metadata": {
    "scrolled": true
   },
   "outputs": [
    {
     "data": {
      "image/png": "[encoded data removed]",
      "text/plain": [
       "<Figure size 800x300 with 1 Axes>"
      ]
     },
     "metadata": {},
     "output_type": "display_data"
    }
   ],
   "source": [
    "from optyx.optyx import Scalar\n",
    "from optyx import zx\n",
    "from discopy.drawing import Equation\n",
    "\n",
    "bell_state = Channel('Bell', zx.Z(0, 2) @ Scalar(0.5 ** 0.5))\n",
    "dual_rail_encoding = lambda state: Channel('encoding', DualRail(internal_state=state))\n",
    "encoding_layer =  dual_rail_encoding(internal_state_1) @ dual_rail_encoding(internal_state_2)\n",
    "post_select = Channel('Success', zx.X(1, 0, 0.5) @ zx.X(1, 0, 0.5) @ Scalar(0.5) , dom = channel.bit @ channel.bit)\n",
    "experiment = bell_state @ bell_state >> channel.Circuit.id(channel.qubit) @ (encoding_layer >> fusion_channel\n",
    "                                                                             >> post_select) @ channel.Circuit.id(channel.qubit)\n",
    "measure = Measure(channel.qubit) @ Measure(channel.qubit)\n",
    "Equation(experiment >> measure, bell_state >> measure).draw(figsize=(8, 3))"
   ]
  },
  {
   "cell_type": "code",
   "execution_count": 26,
   "metadata": {},
   "outputs": [],
   "source": [
    "quimb_tensor = (experiment >> measure).inflate(2).double().to_zw().to_tensor().to_quimb()^..."
   ]
  },
  {
   "cell_type": "code",
   "execution_count": 27,
   "metadata": {},
   "outputs": [
    {
     "data": {
      "text/plain": [
       "array([[1.25000000e-01+0.00000000e+00j, 9.37349864e-34+4.97783402e-34j],\n",
       "       [4.74778387e-66+0.00000000e+00j, 1.25000000e-01+0.00000000e+00j]])"
      ]
     },
     "execution_count": 27,
     "metadata": {},
     "output_type": "execute_result"
    }
   ],
   "source": [
    "quimb_tensor.data"
   ]
  },
  {
   "cell_type": "code",
   "execution_count": null,
   "metadata": {},
   "outputs": [],
   "source": []
  }
 ],
 "metadata": {
  "kernelspec": {
   "display_name": "Python 3 (ipykernel)",
   "language": "python",
   "name": "python3"
  },
  "language_info": {
   "codemirror_mode": {
    "name": "ipython",
    "version": 3
   },
   "file_extension": ".py",
   "mimetype": "text/x-python",
   "name": "python",
   "nbconvert_exporter": "python",
   "pygments_lexer": "ipython3",
   "version": "3.11.5"
  }
 },
 "nbformat": 4,
 "nbformat_minor": 4
}
