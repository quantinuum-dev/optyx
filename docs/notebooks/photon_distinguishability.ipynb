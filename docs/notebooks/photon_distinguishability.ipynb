{
 "cells": [
  {
   "cell_type": "markdown",
   "metadata": {},
   "source": [
    "## Photon distinguishability"
   ]
  },
  {
   "cell_type": "markdown",
   "metadata": {},
   "source": [
    "### What is photon distinguishability?"
   ]
  },
  {
   "cell_type": "markdown",
   "metadata": {},
   "source": [
    "Ideal photonic quantum computing assumes that the photons are not distinguishable -- that we do not know what the internal quantum states of photons are (or equivalently that the internal states are the same). In practice, this assumption is not met. Any imperfections in hardware will cause the internal states of photons to differ.\n",
    "\n",
    " Photon indistinguishability is crucial because nearly all photonic quantum-processing schemes rely on multi-photon interference (for example, the famous Hong–Ou–Mandel effect). When two or more photons arrive at a beamsplitter in indistinguishable states (same frequency, bandwidth, polarization, spatial mode, and arrival time), they can “bunch” together (i.e., exit in the same mode) with high probability due to quantum interference. This is the basis for many gate implementations, such as controlled-NOT gates and other linear optical circuits used in boson sampling or other quantum protocols.\n",
    "\n",
    " Graphically, we can represent (and compute the effect of) the Hong-Ou-Mandel effect as follows:\n",
    "\n",
    " ![HOM](./hom.png \"Hong-Ou-Mandel Effect\")"
   ]
  },
  {
   "cell_type": "markdown",
   "metadata": {},
   "source": [
    "#### How is photon distinguishability implemented in Optyx?"
   ]
  },
  {
   "cell_type": "markdown",
   "metadata": {},
   "source": [
    "In optyx, we can treat each bosonic wire as encoding a probability amplitude of an internal state of a photon. If we create a photon, we can use the white triangle and the endomorphisms on each outpu wire to achieve that:"
   ]
  },
  {
   "cell_type": "code",
   "execution_count": 1,
   "metadata": {},
   "outputs": [
    {
     "data": {
      "image/png": "[encoded data removed]",
      "text/plain": [
       "<Figure size 200x300 with 1 Axes>"
      ]
     },
     "metadata": {},
     "output_type": "display_data"
    }
   ],
   "source": [
    "from optyx.zw import W, Create, Endo\n",
    "\n",
    "internal_state = [0.5**0.5, 0.5**0.5]\n",
    "photon_internal_state = (\n",
    "    Create(1) >>\n",
    "    W(2) >>\n",
    "    Endo(internal_state[0]) @ Endo(internal_state[1])\n",
    ")\n",
    "\n",
    "photon_internal_state.foliation().draw()"
   ]
  },
  {
   "cell_type": "code",
   "execution_count": 2,
   "metadata": {},
   "outputs": [
    {
     "data": {
      "text/plain": [
       "array([[0.        +0.j, 0.70710678+0.j],\n",
       "       [0.70710678+0.j, 0.        +0.j]])"
      ]
     },
     "execution_count": 2,
     "metadata": {},
     "output_type": "execute_result"
    }
   ],
   "source": [
    "photon_internal_state.to_tensor().eval().array"
   ]
  },
  {
   "cell_type": "markdown",
   "metadata": {},
   "source": [
    "In dual rail encoding this is a $|+\\rangle$ state:"
   ]
  },
  {
   "cell_type": "code",
   "execution_count": 3,
   "metadata": {},
   "outputs": [
    {
     "data": {
      "text/plain": [
       "array([0.70710678+0.j, 0.70710678+0.j])"
      ]
     },
     "execution_count": 3,
     "metadata": {},
     "output_type": "execute_result"
    }
   ],
   "source": [
    "from optyx.optyx import DualRail\n",
    "\n",
    "(\n",
    "    photon_internal_state >> DualRail().dagger()\n",
    ").to_tensor().eval().array"
   ]
  },
  {
   "cell_type": "markdown",
   "metadata": {},
   "source": [
    "In Optyx, we do not need to define this inflation of wires manually. As we discuss below, we can define a diagram and internal states that we create and let Optyx handle the mapping into the distinguishable setting."
   ]
  },
  {
   "cell_type": "markdown",
   "metadata": {},
   "source": [
    "### Non-distinguishable photons"
   ]
  },
  {
   "cell_type": "markdown",
   "metadata": {},
   "source": [
    "We will show that if the photons are non-distinguishable, we obtain a perfect Hong-Ou-Mandel effect."
   ]
  },
  {
   "cell_type": "code",
   "execution_count": 4,
   "metadata": {},
   "outputs": [],
   "source": [
    "from optyx.channel import Channel\n",
    "from optyx.lo import BS\n",
    "from optyx.channel import qmode, Measure"
   ]
  },
  {
   "cell_type": "markdown",
   "metadata": {},
   "source": [
    "The states of two particles are the same:"
   ]
  },
  {
   "cell_type": "code",
   "execution_count": 46,
   "metadata": {},
   "outputs": [],
   "source": [
    "internal_state_1 = [0.5**0.5, 0.5**0.5]\n",
    "internal_state_2 = [0.5**0.5, 0.5**0.5]"
   ]
  },
  {
   "cell_type": "code",
   "execution_count": 47,
   "metadata": {},
   "outputs": [],
   "source": [
    "channel_BS = (Channel(\n",
    "    \"BS\",\n",
    "        (\n",
    "            Create(1, 1, internal_states=(internal_state_1,\n",
    "                                          internal_state_2)) >>\n",
    "            BS\n",
    "        )\n",
    "    ) >> Measure(qmode**2)\n",
    ").inflate(len(internal_state_1))"
   ]
  },
  {
   "cell_type": "code",
   "execution_count": 48,
   "metadata": {},
   "outputs": [],
   "source": [
    "result = channel_BS.double().to_zw().to_tensor(max_dim=3).eval().array"
   ]
  },
  {
   "cell_type": "code",
   "execution_count": 49,
   "metadata": {},
   "outputs": [
    {
     "name": "stdout",
     "output_type": "stream",
     "text": [
      "{(0, 2): (0.5+0j), (2, 0): (0.5+0j)}\n"
     ]
    }
   ],
   "source": [
    "import numpy as np\n",
    "\n",
    "rounded_result = np.round(result, 3)\n",
    "\n",
    "non_zero_dict = {idx: val for idx, val in np.ndenumerate(rounded_result) if val != 0}\n",
    "print(non_zero_dict)"
   ]
  },
  {
   "cell_type": "markdown",
   "metadata": {},
   "source": [
    "This means that we cannot get a single photon at each output."
   ]
  },
  {
   "cell_type": "markdown",
   "metadata": {},
   "source": [
    "### Distinguishable photons"
   ]
  },
  {
   "cell_type": "markdown",
   "metadata": {},
   "source": [
    "Here, we define states which are different:"
   ]
  },
  {
   "cell_type": "code",
   "execution_count": 188,
   "metadata": {},
   "outputs": [],
   "source": [
    "internal_state_1 = np.random.rand(2) + 1j*np.random.rand(2)\n",
    "internal_state_1 = internal_state_1 / np.linalg.norm(internal_state_1)\n",
    "internal_state_2 = np.random.rand(2) + 1j*np.random.rand(2)\n",
    "internal_state_2 = internal_state_2 / np.linalg.norm(internal_state_2)"
   ]
  },
  {
   "cell_type": "code",
   "execution_count": 189,
   "metadata": {},
   "outputs": [
    {
     "data": {
      "text/plain": [
       "array([0.61893411+0.69484199j, 0.14888627+0.3345864j ])"
      ]
     },
     "execution_count": 189,
     "metadata": {},
     "output_type": "execute_result"
    }
   ],
   "source": [
    "internal_state_1"
   ]
  },
  {
   "cell_type": "code",
   "execution_count": 190,
   "metadata": {},
   "outputs": [
    {
     "data": {
      "text/plain": [
       "array([0.43693508+0.68426881j, 0.58355278+0.0181682j ])"
      ]
     },
     "execution_count": 190,
     "metadata": {},
     "output_type": "execute_result"
    }
   ],
   "source": [
    "internal_state_2"
   ]
  },
  {
   "cell_type": "code",
   "execution_count": 193,
   "metadata": {},
   "outputs": [],
   "source": [
    "channel_BS = (Channel(\n",
    "    \"BS\",\n",
    "        (\n",
    "            Create(1, 1, internal_states=(internal_state_1,\n",
    "                                          internal_state_2)) >>\n",
    "            BS\n",
    "        )\n",
    "    ) >> Measure(qmode**2)\n",
    ").inflate(2)"
   ]
  },
  {
   "cell_type": "code",
   "execution_count": 194,
   "metadata": {},
   "outputs": [],
   "source": [
    "result = channel_BS.double().to_zw().to_tensor(max_dim=3).eval().array"
   ]
  },
  {
   "cell_type": "code",
   "execution_count": 195,
   "metadata": {},
   "outputs": [
    {
     "name": "stdout",
     "output_type": "stream",
     "text": [
      "{(0, 2): (0.427238-0j), (1, 1): (0.145524-0j), (2, 0): (0.427238-0j)}\n"
     ]
    }
   ],
   "source": [
    "import numpy as np\n",
    "\n",
    "rounded_result = np.round(result, 6)\n",
    "\n",
    "non_zero_dict = {idx: val for idx, val in np.ndenumerate(rounded_result) if val != 0}\n",
    "print(non_zero_dict)"
   ]
  },
  {
   "cell_type": "markdown",
   "metadata": {},
   "source": [
    "We obtain a single photon at each output with 1/4 probability. This can be confirmed using the formula: $\\frac{1}{2} - \\frac{1}{2} \\left| \\langle \\psi_0 | \\psi_1 \\rangle \\right|^2$"
   ]
  },
  {
   "cell_type": "code",
   "execution_count": 196,
   "metadata": {},
   "outputs": [
    {
     "data": {
      "text/plain": [
       "0.14552415412033015"
      ]
     },
     "execution_count": 196,
     "metadata": {},
     "output_type": "execute_result"
    }
   ],
   "source": [
    "0.5 - 0.5*np.abs(np.array(internal_state_1).dot(np.array(internal_state_2).conjugate()))**2"
   ]
  },
  {
   "cell_type": "code",
   "execution_count": null,
   "metadata": {},
   "outputs": [],
   "source": []
  }
 ],
 "metadata": {
  "kernelspec": {
   "display_name": "Python 3",
   "language": "python",
   "name": "python3"
  },
  "language_info": {
   "codemirror_mode": {
    "name": "ipython",
    "version": 3
   },
   "file_extension": ".py",
   "mimetype": "text/x-python",
   "name": "python",
   "nbconvert_exporter": "python",
   "pygments_lexer": "ipython3",
   "version": "3.10.12"
  }
 },
 "nbformat": 4,
 "nbformat_minor": 2
}
