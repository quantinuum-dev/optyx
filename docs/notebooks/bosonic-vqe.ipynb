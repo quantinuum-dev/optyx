{
 "cells": [
  {
   "cell_type": "code",
   "execution_count": 1,
   "id": "471178f7-3c0e-46e7-83ec-a8c48a8af457",
   "metadata": {},
   "outputs": [],
   "source": [
    "from optyx.qpath import *\n",
    "from optyx.circuit import Phase\n",
    "from sympy.abc import theta"
   ]
  },
  {
   "cell_type": "code",
   "execution_count": 2,
   "id": "2d69e7d9-ba58-422b-9deb-1773e3013fbe",
   "metadata": {},
   "outputs": [],
   "source": [
    "circuit = Create(2, 0) >> BS >> (Phase(theta) @ Id(1)) >> BS"
   ]
  },
  {
   "cell_type": "code",
   "execution_count": 3,
   "id": "b4c62e57-720d-4718-9444-30e2043950b7",
   "metadata": {},
   "outputs": [],
   "source": [
    "num_op = Split() >> (Select() >> Create()) @ Id(1) >> Merge()\n",
    "observable = num_op @ Id(1)"
   ]
  },
  {
   "cell_type": "code",
   "execution_count": 4,
   "id": "55a0165d-2213-43a3-baf0-da12dcb7b6a9",
   "metadata": {},
   "outputs": [],
   "source": [
    "expectation = circuit >> observable >> circuit.dagger()"
   ]
  },
  {
   "cell_type": "code",
   "execution_count": 5,
   "id": "f4e5462d-464d-4b09-8574-6867522b61ea",
   "metadata": {},
   "outputs": [],
   "source": [
    "def to_float(x):\n",
    "    if isinstance(x, complex):\n",
    "        assert x.imag < 1e-10\n",
    "        return x.real\n",
    "    return x\n",
    "free_syms = [theta]\n",
    "f = lambda x: to_float(expectation.lambdify(theta)(x).eval().array[0, 0])\n",
    "df = lambda x: to_float(expectation.grad(theta).lambdify(theta)(x).eval().array[0, 0])"
   ]
  },
  {
   "cell_type": "code",
   "execution_count": 6,
   "id": "24355282-4c9c-40b3-b643-461981f9475f",
   "metadata": {},
   "outputs": [],
   "source": [
    "from tqdm import tqdm\n",
    "xs = []\n",
    "fxs = []\n",
    "dfxs = []\n",
    "\n",
    "def optimize(x0):\n",
    "    x = x0\n",
    "\n",
    "    for _ in tqdm(range(20)):\n",
    "        fx = f(x)\n",
    "        dfx = df(x)\n",
    "        xs.append(x)\n",
    "        fxs.append(fx)\n",
    "        dfxs.append(dfx)\n",
    "        print(x, fx, dfx)\n",
    "        x = to_float(x - 0.01 * dfx)\n",
    "    xs.append(x)\n",
    "    fxs.append(f(x))\n",
    "    dfxs.append(df(x))"
   ]
  },
  {
   "cell_type": "code",
   "execution_count": 7,
   "id": "e96227b0-db8e-4871-8c12-b1d034a4bc86",
   "metadata": {},
   "outputs": [
    {
     "name": "stderr",
     "output_type": "stream",
     "text": [
      " 25%|█████████████████████████████████▌                                                                                                    | 5/20 [00:00<00:00, 23.28it/s]"
     ]
    },
    {
     "name": "stdout",
     "output_type": "stream",
     "text": [
      "0.15 0.4122147477075271 5.0832036923152675\n",
      "0.09916796307684732 0.187921226419906 3.6665391278204957\n",
      "0.06250257179864235 0.0761266514243794 2.4045647212120294\n",
      "0.03845692458652206 0.02905124526110993 1.5034878094169355\n",
      "0.023422046492352702 0.010809247572275622 0.9213312800351796\n",
      "0.014208733692000906 0.003982465470418035 0.5601934852676808\n"
     ]
    },
    {
     "name": "stderr",
     "output_type": "stream",
     "text": [
      " 55%|█████████████████████████████████████████████████████████████████████████▏                                                           | 11/20 [00:00<00:00, 24.79it/s]"
     ]
    },
    {
     "name": "stdout",
     "output_type": "stream",
     "text": [
      "0.008606798839324099 0.0014618647855456138 0.33961721050420013\n",
      "0.005210626734282097 0.0005358841049065132 0.20567055179305355\n",
      "0.0031539212163515617 0.00019634380812596163 0.12450366972213929\n",
      "0.0019088845191301688 7.192565848796218e-05 0.07535793342973734\n",
      "0.0011553051848327953 2.6346399858670543e-05 0.04560921999683797\n",
      "0.0006992129848644156 9.65045993892725e-06 0.027603733414283793\n"
     ]
    },
    {
     "name": "stderr",
     "output_type": "stream",
     "text": [
      " 85%|█████████████████████████████████████████████████████████████████████████████████████████████████████████████████                    | 17/20 [00:00<00:00, 25.32it/s]"
     ]
    },
    {
     "name": "stdout",
     "output_type": "stream",
     "text": [
      "0.0004231756507215776 3.5348486747584737e-06 0.016706285374424226\n",
      "0.0002561127969773353 1.2947687396212068e-06 0.010110923589119906\n",
      "0.00015500356108613626 4.7425624507323087e-07 0.0061192943473497175\n",
      "9.381061761263909e-05 1.7371355931130428e-07 0.003703494523384995\n",
      "5.677567237878914e-05 6.362888438528418e-08 0.002241413656398377\n",
      "3.436153581480537e-05 2.3306382663939122e-08 0.0013565390498845751\n"
     ]
    },
    {
     "name": "stderr",
     "output_type": "stream",
     "text": [
      "100%|█████████████████████████████████████████████████████████████████████████████████████████████████████████████████████████████████████| 20/20 [00:00<00:00, 24.61it/s]"
     ]
    },
    {
     "name": "stdout",
     "output_type": "stream",
     "text": [
      "2.079614531595962e-05 8.536806299338615e-09 0.0008209989070087971\n",
      "1.2586156245871648e-05 3.126914299030046e-09 0.0004968815317908841\n"
     ]
    },
    {
     "name": "stderr",
     "output_type": "stream",
     "text": [
      "\n"
     ]
    }
   ],
   "source": [
    "optimize(0.15)"
   ]
  },
  {
   "cell_type": "code",
   "execution_count": 8,
   "id": "088c8fa8-76b3-45bd-a5dd-b337be0d33b1",
   "metadata": {},
   "outputs": [
    {
     "data": {
      "image/png": "[encoded data removed]",
      "text/plain": [
       "<Figure size 640x480 with 1 Axes>"
      ]
     },
     "metadata": {},
     "output_type": "display_data"
    }
   ],
   "source": [
    "import matplotlib.pyplot as plt\n",
    "\n",
    "plt.plot(range(len(xs)),fxs,'b.')\n",
    "plt.show()"
   ]
  },
  {
   "cell_type": "code",
   "execution_count": null,
   "id": "b5fb27fb-bc33-482d-beb7-94247a070e38",
   "metadata": {},
   "outputs": [],
   "source": []
  }
 ],
 "metadata": {
  "kernelspec": {
   "display_name": "Python 3 (ipykernel)",
   "language": "python",
   "name": "python3"
  },
  "language_info": {
   "codemirror_mode": {
    "name": "ipython",
    "version": 3
   },
   "file_extension": ".py",
   "mimetype": "text/x-python",
   "name": "python",
   "nbconvert_exporter": "python",
   "pygments_lexer": "ipython3",
   "version": "3.11.5"
  }
 },
 "nbformat": 4,
 "nbformat_minor": 5
}
